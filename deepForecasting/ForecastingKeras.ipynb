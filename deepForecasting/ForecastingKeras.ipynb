{
 "cells": [
  {
   "cell_type": "code",
   "execution_count": 1,
   "id": "ffad6b68",
   "metadata": {
    "ExecuteTime": {
     "end_time": "2021-08-07T18:55:17.005206Z",
     "start_time": "2021-08-07T18:55:15.005534Z"
    }
   },
   "outputs": [
    {
     "name": "stderr",
     "output_type": "stream",
     "text": [
      "WARNING:root:Limited tf.compat.v2.summary API due to missing TensorBoard installation.\n",
      "WARNING:root:Limited tf.compat.v2.summary API due to missing TensorBoard installation.\n",
      "WARNING:root:Limited tf.compat.v2.summary API due to missing TensorBoard installation.\n",
      "WARNING:root:Limited tf.summary API due to missing TensorBoard installation.\n"
     ]
    }
   ],
   "source": [
    "import numpy as np\n",
    "import pandas as pd\n",
    "import os\n",
    "import matplotlib.pyplot as plt\n",
    "import seaborn as sns; sns.set()\n",
    "import copy\n",
    "import random\n",
    "import tensorflow as tf\n",
    "import tensorflow.keras.backend as K\n",
    "from tensorflow import keras\n",
    "from tensorflow.keras.layers import *\n",
    "from tensorflow.keras.optimizers import *\n",
    "from tensorflow.keras.models import *\n",
    "from sklearn.preprocessing import MinMaxScaler\n",
    "from sklearn.metrics import mean_absolute_error, mean_absolute_percentage_error\n",
    "from collections import defaultdict"
   ]
  },
  {
   "cell_type": "code",
   "execution_count": 2,
   "id": "d2f709a8",
   "metadata": {
    "ExecuteTime": {
     "end_time": "2021-08-07T18:55:24.222721Z",
     "start_time": "2021-08-07T18:55:24.216827Z"
    }
   },
   "outputs": [
    {
     "data": {
      "text/plain": [
       "'1.19.5'"
      ]
     },
     "execution_count": 2,
     "metadata": {},
     "output_type": "execute_result"
    }
   ],
   "source": [
    "np.__version__"
   ]
  },
  {
   "cell_type": "code",
   "execution_count": 3,
   "id": "f6ac5698",
   "metadata": {
    "ExecuteTime": {
     "end_time": "2021-08-07T18:55:24.825377Z",
     "start_time": "2021-08-07T18:55:24.663984Z"
    }
   },
   "outputs": [],
   "source": [
    "bkdatafolder = \"/Volumes/T7 Touch/TheseProject/DR_KELLA/BKDataCleaned/\"\n",
    "dataset_name = os.listdir(bkdatafolder)"
   ]
  },
  {
   "cell_type": "code",
   "execution_count": 4,
   "id": "0b946ab3",
   "metadata": {
    "ExecuteTime": {
     "end_time": "2021-08-07T18:55:26.194155Z",
     "start_time": "2021-08-07T18:55:26.168082Z"
    }
   },
   "outputs": [],
   "source": [
    "def createDictFloor(floor_name):\n",
    "    getdict = {}\n",
    "    floors = [floor for floor in dataset_name if floor_name in floor]\n",
    "    for name in floors:\n",
    "        floorname = name.split(\".\")[0]\n",
    "        getdict[floorname] = pd.read_csv(bkdatafolder+name, index_col=0, parse_dates=[\"Date\"])\n",
    "        getdict[floorname] = getdict[floorname].sort_index()\n",
    "    return getdict\n",
    "\n",
    "def Missing_values(data):\n",
    "    total = data.isnull().sum().sort_values(ascending=False)\n",
    "    percent = (data.isnull().sum()/data.isnull().count()).sort_values(ascending=False)\n",
    "    missing_data = pd.concat([total,percent], axis=1, keys=['Total', 'Pourcentage'])\n",
    "    print (missing_data[(percent>0)],'\\n' )\n",
    "\n",
    "def seed_everything(seed=0):\n",
    "    random.seed(seed)\n",
    "    os.environ['PYTHONHASHSEED'] = str(seed)\n",
    "    np.random.seed(seed)\n",
    "    torch.manual_seed(seed)\n",
    "    torch.cuda.manual_seed(seed)\n",
    "    torch.backends.cudnn.deterministic = True\n",
    "    \n",
    "def createPlot(date1, date2, features, data):\n",
    "    for floor in data.keys():\n",
    "        data[floor].resample(\"5T\").mean()[features][date1:date2].plot(figsize=(20,7))\n",
    "        \n",
    "\n",
    "def createDTFeat(date1, date2, datadict, features, resample_method=\"sum\" ,scale=True):\n",
    "    resample_move = {}\n",
    "    index_nan = {}\n",
    "    index_small = {}\n",
    "    floors = list(datadict.keys())\n",
    "    dates = []\n",
    "    scalers = {}\n",
    "    for data in datadict.keys():\n",
    "        if resample_method == \"sum\":\n",
    "            resample_move[data] = floor_dict[data][date1:date2].resample(\n",
    "                \"5min\").sum()\n",
    "            \n",
    "        elif resample_method == \"max\":\n",
    "            resample_move[data] = floor_dict[data][date1:date2].resample(\n",
    "                \"5min\").max().bfill()\n",
    "        elif resample_method == \"mean\":\n",
    "            resample_move[data] = floor_dict[data][date1:date2].resample(\n",
    "                \"5min\").mean().bfill()\n",
    "            \n",
    "        cols = resample_move[data].columns\n",
    "        idx = resample_move[data].index\n",
    "\n",
    "        if scale:\n",
    "            scaler = MinMaxScaler()\n",
    "            scaler.fit(resample_move[data])\n",
    "            resample_move[data] = pd.DataFrame(scaler.transform(\n",
    "                resample_move[data]),\n",
    "                                               columns=cols,\n",
    "                                               index=idx)\n",
    "            scalers[data] = scaler\n",
    "\n",
    "        resample_move[data][\"weekday\"] = resample_move[data].index.day_name()\n",
    "        resample_move[data][\"date\"] = resample_move[data].index.date\n",
    "        resample_move[data][\"time\"] = resample_move[data].index.time\n",
    "\n",
    "        nan = np.where(pd.isnull(resample_move[data][features]))[0]\n",
    "        index_nan[data] = np.unique(resample_move[data].iloc[nan][\"time\"])\n",
    "\n",
    "    return resample_move, scalers, index_nan\n",
    "\n",
    "def getInfoTimeShape(datadict):\n",
    "    for floor in datadict.keys():\n",
    "        data = datadict[floor]\n",
    "        print(\"Floor : {} , shape :{} , TimeMin {} , TimeMax {}\".format(floor,data.shape, data.index.min(), data.index.max()))\n",
    "        Missing_values(data)\n",
    "        \n",
    "def cleanNan(data,idx_nan):\n",
    "    index=[]\n",
    "    for k,v in idx_nan.items():\n",
    "        for ele in v:\n",
    "            index.append(ele)\n",
    "    mynan = set(index)\n",
    "    newdata = data.copy()\n",
    "    remain_date = []\n",
    "    for floor in idx_nan.keys():\n",
    "        datafloor = data[floor]\n",
    "        todropnan = datafloor[datafloor[\"date\"].isin(list(mynan))].index\n",
    "        datafloor = datafloor.drop(todropnan)\n",
    "        newdata[floor] = datafloor\n",
    "        for date in datafloor[\"date\"]:\n",
    "            remain_date.append(str(date))\n",
    "    remain_date = sorted(set(remain_date))\n",
    "    return data, remain_date"
   ]
  },
  {
   "cell_type": "code",
   "execution_count": 5,
   "id": "b0413f01",
   "metadata": {
    "ExecuteTime": {
     "end_time": "2021-08-07T18:55:26.573871Z",
     "start_time": "2021-08-07T18:55:26.564641Z"
    }
   },
   "outputs": [],
   "source": [
    "def rolling_window(series, window_size):\n",
    "    return np.array([series[i : (i + window_size)] for i in range(0, series.shape[0] - window_size + 1)])\n",
    "\n",
    "def to_timeseries_input(series, lookback, predictions):\n",
    "    inputs = rolling_window(series[:-predictions], lookback)\n",
    "    outputs = rolling_window(series[lookback:], predictions)\n",
    "    return inputs, outputs\n",
    "\n",
    "def createDataByDate(datadict, features, dates):\n",
    "    databyDate = defaultdict(lambda : defaultdict(dict))\n",
    "    for date in dates:\n",
    "        for floor in datadict.keys():\n",
    "            databyDate[date][floor] = np.asarray(datadict[floor][date][features])\n",
    "    return databyDate\n",
    "\n",
    "def splitDate(dates,cutoff):\n",
    "    train_date = [x for x in dates if x <= cutoff]\n",
    "    test_date = sorted(list(set(dates) - set(train_date)))\n",
    "    return train_date, test_date\n",
    "\n",
    "def getInfoDataByDate(data, dates):\n",
    "    for date in dates:\n",
    "        print(\"Date : {}\".format(date))\n",
    "        for floor in data[date]:\n",
    "            print(\"{} shape : {}\".format(floor,data[date][floor].shape))"
   ]
  },
  {
   "cell_type": "code",
   "execution_count": 6,
   "id": "baea35ed",
   "metadata": {
    "ExecuteTime": {
     "end_time": "2021-08-07T18:55:27.821081Z",
     "start_time": "2021-08-07T18:55:26.801731Z"
    }
   },
   "outputs": [
    {
     "name": "stdout",
     "output_type": "stream",
     "text": [
      "Floor7Z1 Start: 2019-03-06 14:50:00 End: 2019-12-31 23:59:00 Count:424099\n",
      "\n",
      "Floor7Z2 Start: 2019-03-06 14:48:00 End: 2019-12-31 23:59:00 Count:424701\n",
      "\n",
      "Floor7Z4 Start: 2019-03-06 14:46:00 End: 2019-12-31 23:59:00 Count:416243\n",
      "\n",
      "Floor7Z5 Start: 2019-03-06 14:55:00 End: 2019-12-31 23:59:00 Count:407698\n",
      "\n"
     ]
    }
   ],
   "source": [
    "date1 = \"2019-03-07\"\n",
    "date2 = \"2019-12-31\"\n",
    "floor_dict = createDictFloor(\"Floor7\")\n",
    "for data in floor_dict.keys():\n",
    "    zone = floor_dict[data]\n",
    "    print(\"{} Start: {} End: {} Count:{}\".format(data,zone.index.min(),zone.index.max(), zone.shape[0]))\n",
    "    print(\"\")"
   ]
  },
  {
   "cell_type": "code",
   "execution_count": 7,
   "id": "b6b87a6d",
   "metadata": {
    "ExecuteTime": {
     "end_time": "2021-08-07T18:55:28.222653Z",
     "start_time": "2021-08-07T18:55:27.822145Z"
    }
   },
   "outputs": [],
   "source": [
    "featureX = \"temperature\"\n",
    "resampleX_method = \"max\"\n",
    "resampleX, scalersX, index_nan = createDTFeat(date1, date2, floor_dict, featureX,resample_method=resampleX_method)\n",
    "cleanedDataX, remain_date = cleanNan(resampleX, index_nan)"
   ]
  },
  {
   "cell_type": "code",
   "execution_count": 237,
   "id": "85bf3ab1",
   "metadata": {
    "ExecuteTime": {
     "end_time": "2021-08-07T21:00:00.687292Z",
     "start_time": "2021-08-07T21:00:00.406978Z"
    }
   },
   "outputs": [
    {
     "name": "stderr",
     "output_type": "stream",
     "text": [
      "/var/folders/wm/ymsmhgr90dd6gyprvtgvcr080000gn/T/ipykernel_5587/2632087007.py:13: FutureWarning: Indexing a DataFrame with a datetimelike index using a single string to slice the rows, like `frame[string]`, is deprecated and will be removed in a future version. Use `frame.loc[string]` instead.\n",
      "  databyDate[date][floor] = np.asarray(datadict[floor][date][features])\n"
     ]
    }
   ],
   "source": [
    "cutting_date1 = \"2019-08-08\"\n",
    "cutting_date2 = \"2019-09-08\"\n",
    "myfloor = \"Floor7Z1\"\n",
    "\n",
    "lookback = 13\n",
    "lookahead = 5\n",
    "batch_size = 16\n",
    "train_date, test_date = splitDate(remain_date, cutting_date1)\n",
    "valid_date, test_date = splitDate(test_date, cutting_date2)\n",
    "databyDateX = createDataByDate(cleanedDataX, featureX, remain_date)"
   ]
  },
  {
   "cell_type": "code",
   "execution_count": 238,
   "id": "2d3f4a34",
   "metadata": {
    "ExecuteTime": {
     "end_time": "2021-08-07T21:00:01.242652Z",
     "start_time": "2021-08-07T21:00:01.236865Z"
    }
   },
   "outputs": [],
   "source": [
    "traindata = np.asarray([databyDateX[date][myfloor] for date in train_date]).flatten()\n",
    "validdata = np.asarray([databyDateX[date][myfloor] for date in valid_date]).flatten()\n",
    "testdata = np.asarray([databyDateX[date][myfloor] for date in test_date]).flatten()"
   ]
  },
  {
   "cell_type": "code",
   "execution_count": 239,
   "id": "e221290a",
   "metadata": {
    "ExecuteTime": {
     "end_time": "2021-08-07T21:00:01.870303Z",
     "start_time": "2021-08-07T21:00:01.769491Z"
    }
   },
   "outputs": [],
   "source": [
    "xtrain, ytrain= to_timeseries_input(traindata,lookback=lookback, predictions=lookahead)\n",
    "xval, yval = to_timeseries_input(validdata,lookback=lookback, predictions=lookahead)\n",
    "xtest, ytest = to_timeseries_input(testdata, lookback=lookback, predictions=lookahead)\n",
    "\n",
    "xtrain = np.expand_dims(xtrain, axis=-1)\n",
    "xval = np.expand_dims(xval, axis=-1)\n",
    "xtest = np.expand_dims(xtest,axis=-1)"
   ]
  },
  {
   "cell_type": "code",
   "execution_count": 243,
   "id": "55356be9",
   "metadata": {
    "ExecuteTime": {
     "end_time": "2021-08-07T21:00:09.147789Z",
     "start_time": "2021-08-07T21:00:09.100520Z"
    }
   },
   "outputs": [
    {
     "name": "stdout",
     "output_type": "stream",
     "text": [
      "Model: \"model_23\"\n",
      "_________________________________________________________________\n",
      "Layer (type)                 Output Shape              Param #   \n",
      "=================================================================\n",
      "input_30 (InputLayer)        [(None, 13, 1)]           0         \n",
      "_________________________________________________________________\n",
      "lstm_41 (LSTM)               (None, 10)                480       \n",
      "_________________________________________________________________\n",
      "dense_29 (Dense)             (None, 5)                 55        \n",
      "=================================================================\n",
      "Total params: 535\n",
      "Trainable params: 535\n",
      "Non-trainable params: 0\n",
      "_________________________________________________________________\n"
     ]
    }
   ],
   "source": [
    "inputs = Input(shape=(lookback, 1))\n",
    "lstm_out = keras.layers.LSTM(10, return_sequences=False)(inputs)\n",
    "outputs = keras.layers.Dense(5)(lstm_out)\n",
    "\n",
    "model = keras.Model(inputs = inputs, outputs = outputs)\n",
    "model.compile(optimizer=Adam(learning_rate=0.01), loss=\"mae\")\n",
    "model.summary()"
   ]
  },
  {
   "cell_type": "code",
   "execution_count": 244,
   "id": "4f5e6f75",
   "metadata": {
    "ExecuteTime": {
     "end_time": "2021-08-07T21:00:09.730349Z",
     "start_time": "2021-08-07T21:00:09.726859Z"
    }
   },
   "outputs": [],
   "source": [
    "#path_ckpts = \"./kerascheckpts/\"\n",
    "es_callback = keras.callbacks.EarlyStopping(monitor=\"val_loss\", patience=10)"
   ]
  },
  {
   "cell_type": "code",
   "execution_count": 245,
   "id": "71acfc89",
   "metadata": {
    "ExecuteTime": {
     "end_time": "2021-08-07T21:02:03.571600Z",
     "start_time": "2021-08-07T21:00:11.564186Z"
    },
    "scrolled": true
   },
   "outputs": [
    {
     "name": "stdout",
     "output_type": "stream",
     "text": [
      "Epoch 1/100\n",
      "WARNING:tensorflow:AutoGraph could not transform <function Model.make_train_function.<locals>.train_function at 0x2aaa31940> and will run it as-is.\n",
      "Please report this to the TensorFlow team. When filing the bug, set the verbosity to 10 (on Linux, `export AUTOGRAPH_VERBOSITY=10`) and attach the full output.\n",
      "Cause: unsupported operand type(s) for -: 'NoneType' and 'int'\n",
      "To silence this warning, decorate the function with @tf.autograph.experimental.do_not_convert\n"
     ]
    },
    {
     "name": "stderr",
     "output_type": "stream",
     "text": [
      "WARNING:tensorflow:AutoGraph could not transform <function Model.make_train_function.<locals>.train_function at 0x2aaa31940> and will run it as-is.\n",
      "Please report this to the TensorFlow team. When filing the bug, set the verbosity to 10 (on Linux, `export AUTOGRAPH_VERBOSITY=10`) and attach the full output.\n",
      "Cause: unsupported operand type(s) for -: 'NoneType' and 'int'\n",
      "To silence this warning, decorate the function with @tf.autograph.experimental.do_not_convert\n"
     ]
    },
    {
     "name": "stdout",
     "output_type": "stream",
     "text": [
      "WARNING: AutoGraph could not transform <function Model.make_train_function.<locals>.train_function at 0x2aaa31940> and will run it as-is.\n",
      "Please report this to the TensorFlow team. When filing the bug, set the verbosity to 10 (on Linux, `export AUTOGRAPH_VERBOSITY=10`) and attach the full output.\n",
      "Cause: unsupported operand type(s) for -: 'NoneType' and 'int'\n",
      "To silence this warning, decorate the function with @tf.autograph.experimental.do_not_convert\n",
      "2766/2789 [============================>.] - ETA: 0s - loss: 0.0353WARNING:tensorflow:AutoGraph could not transform <function Model.make_test_function.<locals>.test_function at 0x2b0e2ab80> and will run it as-is.\n",
      "Please report this to the TensorFlow team. When filing the bug, set the verbosity to 10 (on Linux, `export AUTOGRAPH_VERBOSITY=10`) and attach the full output.\n",
      "Cause: unsupported operand type(s) for -: 'NoneType' and 'int'\n",
      "To silence this warning, decorate the function with @tf.autograph.experimental.do_not_convert\n"
     ]
    },
    {
     "name": "stderr",
     "output_type": "stream",
     "text": [
      "WARNING:tensorflow:AutoGraph could not transform <function Model.make_test_function.<locals>.test_function at 0x2b0e2ab80> and will run it as-is.\n",
      "Please report this to the TensorFlow team. When filing the bug, set the verbosity to 10 (on Linux, `export AUTOGRAPH_VERBOSITY=10`) and attach the full output.\n",
      "Cause: unsupported operand type(s) for -: 'NoneType' and 'int'\n",
      "To silence this warning, decorate the function with @tf.autograph.experimental.do_not_convert\n"
     ]
    },
    {
     "name": "stdout",
     "output_type": "stream",
     "text": [
      "WARNING: AutoGraph could not transform <function Model.make_test_function.<locals>.test_function at 0x2b0e2ab80> and will run it as-is.\n",
      "Please report this to the TensorFlow team. When filing the bug, set the verbosity to 10 (on Linux, `export AUTOGRAPH_VERBOSITY=10`) and attach the full output.\n",
      "Cause: unsupported operand type(s) for -: 'NoneType' and 'int'\n",
      "To silence this warning, decorate the function with @tf.autograph.experimental.do_not_convert\n",
      "2789/2789 [==============================] - 4s 1ms/step - loss: 0.0352 - val_loss: 0.0155\n",
      "Epoch 2/100\n",
      "2789/2789 [==============================] - 3s 1ms/step - loss: 0.0175 - val_loss: 0.0155\n",
      "Epoch 3/100\n",
      "2789/2789 [==============================] - 3s 1ms/step - loss: 0.0173 - val_loss: 0.0187\n",
      "Epoch 4/100\n",
      "2789/2789 [==============================] - 3s 1ms/step - loss: 0.0171 - val_loss: 0.0151\n",
      "Epoch 5/100\n",
      "2789/2789 [==============================] - 3s 1ms/step - loss: 0.0168 - val_loss: 0.0165\n",
      "Epoch 6/100\n",
      "2789/2789 [==============================] - 3s 1ms/step - loss: 0.0166 - val_loss: 0.0165\n",
      "Epoch 7/100\n",
      "2789/2789 [==============================] - 3s 1ms/step - loss: 0.0165 - val_loss: 0.0152\n",
      "Epoch 8/100\n",
      "2789/2789 [==============================] - 3s 1ms/step - loss: 0.0159 - val_loss: 0.0147\n",
      "Epoch 9/100\n",
      "2789/2789 [==============================] - 3s 1ms/step - loss: 0.0163 - val_loss: 0.0149\n",
      "Epoch 10/100\n",
      "2789/2789 [==============================] - 3s 1ms/step - loss: 0.0160 - val_loss: 0.0148\n",
      "Epoch 11/100\n",
      "2789/2789 [==============================] - 3s 1ms/step - loss: 0.0157 - val_loss: 0.0154\n",
      "Epoch 12/100\n",
      "2789/2789 [==============================] - 3s 1ms/step - loss: 0.0157 - val_loss: 0.0154\n",
      "Epoch 13/100\n",
      "2789/2789 [==============================] - 3s 1ms/step - loss: 0.0156 - val_loss: 0.0148\n",
      "Epoch 14/100\n",
      "2789/2789 [==============================] - 3s 1ms/step - loss: 0.0158 - val_loss: 0.0152\n",
      "Epoch 15/100\n",
      "2789/2789 [==============================] - 3s 1ms/step - loss: 0.0156 - val_loss: 0.0147\n",
      "Epoch 16/100\n",
      "2789/2789 [==============================] - 3s 1ms/step - loss: 0.0156 - val_loss: 0.0146\n",
      "Epoch 17/100\n",
      "2789/2789 [==============================] - 3s 1ms/step - loss: 0.0155 - val_loss: 0.0160\n",
      "Epoch 18/100\n",
      "2789/2789 [==============================] - 3s 1ms/step - loss: 0.0155 - val_loss: 0.0145\n",
      "Epoch 19/100\n",
      "2789/2789 [==============================] - 3s 1ms/step - loss: 0.0155 - val_loss: 0.0152\n",
      "Epoch 20/100\n",
      "2789/2789 [==============================] - 3s 1ms/step - loss: 0.0154 - val_loss: 0.0152\n",
      "Epoch 21/100\n",
      "2789/2789 [==============================] - 3s 1ms/step - loss: 0.0154 - val_loss: 0.0154\n",
      "Epoch 22/100\n",
      "2789/2789 [==============================] - 3s 1ms/step - loss: 0.0152 - val_loss: 0.0145\n",
      "Epoch 23/100\n",
      "2789/2789 [==============================] - 3s 1ms/step - loss: 0.0153 - val_loss: 0.0149\n",
      "Epoch 24/100\n",
      "2789/2789 [==============================] - 3s 1ms/step - loss: 0.0150 - val_loss: 0.0149\n",
      "Epoch 25/100\n",
      "2789/2789 [==============================] - 3s 1ms/step - loss: 0.0151 - val_loss: 0.0143\n",
      "Epoch 26/100\n",
      "2789/2789 [==============================] - 3s 1ms/step - loss: 0.0151 - val_loss: 0.0143\n",
      "Epoch 27/100\n",
      "2789/2789 [==============================] - 3s 1ms/step - loss: 0.0149 - val_loss: 0.0139\n",
      "Epoch 28/100\n",
      "2789/2789 [==============================] - 3s 1ms/step - loss: 0.0149 - val_loss: 0.0144\n",
      "Epoch 29/100\n",
      "2789/2789 [==============================] - 3s 1ms/step - loss: 0.0149 - val_loss: 0.0148\n",
      "Epoch 30/100\n",
      "2789/2789 [==============================] - 3s 1ms/step - loss: 0.0150 - val_loss: 0.0149\n",
      "Epoch 31/100\n",
      "2789/2789 [==============================] - 3s 1ms/step - loss: 0.0150 - val_loss: 0.0146\n",
      "Epoch 32/100\n",
      "2789/2789 [==============================] - 3s 1ms/step - loss: 0.0150 - val_loss: 0.0146\n",
      "Epoch 33/100\n",
      "2789/2789 [==============================] - 3s 1ms/step - loss: 0.0151 - val_loss: 0.0141\n",
      "Epoch 34/100\n",
      "2789/2789 [==============================] - 3s 1ms/step - loss: 0.0150 - val_loss: 0.0141\n",
      "Epoch 35/100\n",
      "2789/2789 [==============================] - 3s 1ms/step - loss: 0.0150 - val_loss: 0.0142\n",
      "Epoch 36/100\n",
      "2789/2789 [==============================] - 3s 1ms/step - loss: 0.0147 - val_loss: 0.0157\n",
      "Epoch 37/100\n",
      "2789/2789 [==============================] - 3s 1ms/step - loss: 0.0147 - val_loss: 0.0145\n"
     ]
    }
   ],
   "source": [
    "history = model.fit(xtrain, ytrain, batch_size = 16, epochs=100,\n",
    "                    validation_data=(xval, yval),\n",
    "                   callbacks=[es_callback])"
   ]
  },
  {
   "cell_type": "code",
   "execution_count": 246,
   "id": "94d3ea7b",
   "metadata": {
    "ExecuteTime": {
     "end_time": "2021-08-07T21:02:35.146409Z",
     "start_time": "2021-08-07T21:02:35.049370Z"
    }
   },
   "outputs": [
    {
     "data": {
      "text/plain": [
       "[<matplotlib.lines.Line2D at 0x29e93b160>]"
      ]
     },
     "execution_count": 246,
     "metadata": {},
     "output_type": "execute_result"
    },
    {
     "data": {
      "image/png": "[encoded data removed]",
      "text/plain": [
       "<Figure size 432x288 with 1 Axes>"
      ]
     },
     "metadata": {},
     "output_type": "display_data"
    }
   ],
   "source": [
    "loss = history.history[\"loss\"]\n",
    "valloss = history.history[\"val_loss\"]\n",
    "\n",
    "plt.plot(loss)\n",
    "plt.plot(valloss)"
   ]
  },
  {
   "cell_type": "code",
   "execution_count": 249,
   "id": "3ed09e7d",
   "metadata": {
    "ExecuteTime": {
     "end_time": "2021-08-07T21:02:48.926508Z",
     "start_time": "2021-08-07T21:02:48.876128Z"
    }
   },
   "outputs": [],
   "source": [
    "pred0 = model.predict(xtest[::lookback][0:50]).flatten()\n",
    "y0 = ytest[::lookback][0:50].flatten()"
   ]
  },
  {
   "cell_type": "code",
   "execution_count": 250,
   "id": "26c8db4a",
   "metadata": {
    "ExecuteTime": {
     "end_time": "2021-08-07T21:02:49.668674Z",
     "start_time": "2021-08-07T21:02:49.574941Z"
    }
   },
   "outputs": [
    {
     "data": {
      "text/plain": [
       "[<matplotlib.lines.Line2D at 0x2a4e5aeb0>]"
      ]
     },
     "execution_count": 250,
     "metadata": {},
     "output_type": "execute_result"
    },
    {
     "data": {
      "image/png": "[encoded data removed]",
      "text/plain": [
       "<Figure size 432x288 with 1 Axes>"
      ]
     },
     "metadata": {},
     "output_type": "display_data"
    }
   ],
   "source": [
    "plt.plot(y0)\n",
    "plt.plot(pred0)"
   ]
  },
  {
   "cell_type": "code",
   "execution_count": 262,
   "id": "fa07e948",
   "metadata": {
    "ExecuteTime": {
     "end_time": "2021-08-07T21:03:28.265592Z",
     "start_time": "2021-08-07T21:03:28.077318Z"
    }
   },
   "outputs": [
    {
     "name": "stdout",
     "output_type": "stream",
     "text": [
      "Model: \"model_27\"\n",
      "_________________________________________________________________\n",
      "Layer (type)                 Output Shape              Param #   \n",
      "=================================================================\n",
      "input_34 (InputLayer)        [(1, 13, 1)]              0         \n",
      "_________________________________________________________________\n",
      "lstm_45 (LSTM)               (1, 10)                   480       \n",
      "_________________________________________________________________\n",
      "dense_33 (Dense)             (1, 5)                    55        \n",
      "=================================================================\n",
      "Total params: 535\n",
      "Trainable params: 535\n",
      "Non-trainable params: 0\n",
      "_________________________________________________________________\n"
     ]
    }
   ],
   "source": [
    "inputs = Input(batch_shape=(1,lookback,1))\n",
    "lstm_out = keras.layers.LSTM(10, return_sequences=False, stateful=True)(inputs)\n",
    "outputs = keras.layers.Dense(5)(lstm_out)\n",
    "\n",
    "model1 = keras.Model(inputs = inputs, outputs = outputs)\n",
    "model1.compile(optimizer=Adam(learning_rate=0.01), loss=\"mae\")\n",
    "model1.summary()"
   ]
  },
  {
   "cell_type": "code",
   "execution_count": 263,
   "id": "f064f012",
   "metadata": {
    "ExecuteTime": {
     "end_time": "2021-08-07T21:03:31.908124Z",
     "start_time": "2021-08-07T21:03:31.902607Z"
    }
   },
   "outputs": [],
   "source": [
    "model1.set_weights(model.get_weights())"
   ]
  },
  {
   "cell_type": "code",
   "execution_count": 264,
   "id": "fe9d14b3",
   "metadata": {
    "ExecuteTime": {
     "end_time": "2021-08-07T21:03:32.379879Z",
     "start_time": "2021-08-07T21:03:32.376002Z"
    }
   },
   "outputs": [],
   "source": [
    "model1.reset_states()"
   ]
  },
  {
   "cell_type": "code",
   "execution_count": 266,
   "id": "22f55738",
   "metadata": {
    "ExecuteTime": {
     "end_time": "2021-08-07T21:03:50.946978Z",
     "start_time": "2021-08-07T21:03:50.684048Z"
    }
   },
   "outputs": [],
   "source": [
    "setstate = model1.predict(xval[0:1])"
   ]
  },
  {
   "cell_type": "code",
   "execution_count": 269,
   "id": "14c5c77e",
   "metadata": {
    "ExecuteTime": {
     "end_time": "2021-08-07T21:04:08.999433Z",
     "start_time": "2021-08-07T21:04:07.882919Z"
    }
   },
   "outputs": [],
   "source": [
    "init = xtest[0:1]\n",
    "laststep = xtest[0:1]\n",
    "for i in range(1,50+1):\n",
    "    sample = model1.predict(laststep)\n",
    "    init = tf.concat((init, tf.expand_dims(sample,axis=-1)),axis=1)\n",
    "    laststep = init[:,-lookback,:]\n",
    "model1.reset_states()"
   ]
  },
  {
   "cell_type": "code",
   "execution_count": 270,
   "id": "8295a6e4",
   "metadata": {
    "ExecuteTime": {
     "end_time": "2021-08-07T21:04:10.687518Z",
     "start_time": "2021-08-07T21:04:10.590844Z"
    }
   },
   "outputs": [
    {
     "data": {
      "text/plain": [
       "[<matplotlib.lines.Line2D at 0x2ab200100>]"
      ]
     },
     "execution_count": 270,
     "metadata": {},
     "output_type": "execute_result"
    },
    {
     "data": {
      "image/png": "[encoded data removed]",
      "text/plain": [
       "<Figure size 432x288 with 1 Axes>"
      ]
     },
     "metadata": {},
     "output_type": "display_data"
    }
   ],
   "source": [
    "plt.plot(np.asarray(init).flatten()[:])"
   ]
  },
  {
   "cell_type": "code",
   "execution_count": null,
   "id": "3c9118a7",
   "metadata": {},
   "outputs": [],
   "source": []
  }
 ],
 "metadata": {
  "kernelspec": {
   "display_name": "Python 3 (ipykernel)",
   "language": "python",
   "name": "python3"
  },
  "language_info": {
   "codemirror_mode": {
    "name": "ipython",
    "version": 3
   },
   "file_extension": ".py",
   "mimetype": "text/x-python",
   "name": "python",
   "nbconvert_exporter": "python",
   "pygments_lexer": "ipython3",
   "version": "3.8.10"
  },
  "toc": {
   "base_numbering": 1,
   "nav_menu": {},
   "number_sections": true,
   "sideBar": true,
   "skip_h1_title": false,
   "title_cell": "Table of Contents",
   "title_sidebar": "Contents",
   "toc_cell": false,
   "toc_position": {},
   "toc_section_display": true,
   "toc_window_display": false
  }
 },
 "nbformat": 4,
 "nbformat_minor": 5
}
