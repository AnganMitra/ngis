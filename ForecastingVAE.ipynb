{
 "cells": [
  {
   "cell_type": "code",
   "execution_count": 1,
   "id": "7fc1ec81",
   "metadata": {
    "ExecuteTime": {
     "end_time": "2021-08-11T11:31:54.958348Z",
     "start_time": "2021-08-11T11:31:54.069057Z"
    }
   },
   "outputs": [],
   "source": [
    "import torch\n",
    "import torch.nn as nn\n",
    "import numpy as np\n",
    "import pandas as pd\n",
    "import os\n",
    "import torch.optim as optim\n",
    "import matplotlib.pyplot as plt\n",
    "import seaborn as sns; sns.set()\n",
    "import copy\n",
    "import random\n",
    "import importlib\n",
    "from dataUtils import *\n",
    "from torch.nn import functional as F\n",
    "from sklearn.preprocessing import MinMaxScaler\n",
    "from sklearn.metrics import mean_absolute_error, mean_absolute_percentage_error\n",
    "from collections import defaultdict\n",
    "from torch.utils.data import TensorDataset, DataLoader"
   ]
  },
  {
   "cell_type": "code",
   "execution_count": 2,
   "id": "bd282357",
   "metadata": {
    "ExecuteTime": {
     "end_time": "2021-08-11T11:31:55.737916Z",
     "start_time": "2021-08-11T11:31:55.575917Z"
    }
   },
   "outputs": [],
   "source": [
    "bkdatafolder = \"/Volumes/T7 Touch/TheseProject/DR_KELLA/BKDataCleaned/\"\n",
    "dataset_name = os.listdir(bkdatafolder)"
   ]
  },
  {
   "cell_type": "code",
   "execution_count": 3,
   "id": "f8e99fad",
   "metadata": {
    "ExecuteTime": {
     "end_time": "2021-08-11T11:31:56.937144Z",
     "start_time": "2021-08-11T11:31:55.912681Z"
    }
   },
   "outputs": [
    {
     "name": "stdout",
     "output_type": "stream",
     "text": [
      "Floor7Z1 Start: 2019-03-06 14:50:00 End: 2019-12-31 23:59:00 Count:424099\n",
      "\n",
      "Floor7Z2 Start: 2019-03-06 14:48:00 End: 2019-12-31 23:59:00 Count:424701\n",
      "\n",
      "Floor7Z4 Start: 2019-03-06 14:46:00 End: 2019-12-31 23:59:00 Count:416243\n",
      "\n",
      "Floor7Z5 Start: 2019-03-06 14:55:00 End: 2019-12-31 23:59:00 Count:407698\n",
      "\n"
     ]
    }
   ],
   "source": [
    "date1 = \"2019-03-07\"\n",
    "date2 = \"2019-12-31\"\n",
    "floor_dict = createDictFloor(\"Floor7\", dataset_name, bkdatafolder)\n",
    "for data in floor_dict.keys():\n",
    "    zone = floor_dict[data]\n",
    "    print(\"{} Start: {} End: {} Count:{}\".format(data,zone.index.min(),zone.index.max(), zone.shape[0]))\n",
    "    print(\"\")"
   ]
  },
  {
   "cell_type": "code",
   "execution_count": 550,
   "id": "c5cd49a7",
   "metadata": {
    "ExecuteTime": {
     "end_time": "2021-08-11T15:22:53.310166Z",
     "start_time": "2021-08-11T15:22:53.306950Z"
    }
   },
   "outputs": [],
   "source": [
    "myfloor = \"Floor7Z1\"\n",
    "lookback = 13\n",
    "lookahead = 5\n",
    "batch_size = 48"
   ]
  },
  {
   "cell_type": "code",
   "execution_count": 551,
   "id": "d78a7cea",
   "metadata": {
    "ExecuteTime": {
     "end_time": "2021-08-11T15:22:54.567751Z",
     "start_time": "2021-08-11T15:22:54.164521Z"
    }
   },
   "outputs": [],
   "source": [
    "featureX = [\"temperature\"]\n",
    "resampleX_method = \"max\"\n",
    "resampleX, scalersX, index_nan = createDTFeat(date1, date2, floor_dict, featureX,\n",
    "                                              resample_method=resampleX_method)\n",
    "cleanedDataX, remain_date = cleanNan(resampleX, index_nan)"
   ]
  },
  {
   "cell_type": "code",
   "execution_count": 552,
   "id": "f76ed95d",
   "metadata": {
    "ExecuteTime": {
     "end_time": "2021-08-11T15:22:54.980764Z",
     "start_time": "2021-08-11T15:22:54.568701Z"
    }
   },
   "outputs": [
    {
     "name": "stderr",
     "output_type": "stream",
     "text": [
      "/Users/Slaton/Documents/DMFW/BangkokDataAnalysis/Ngis/dataUtils.py:117: FutureWarning: Indexing a DataFrame with a datetimelike index using a single string to slice the rows, like `frame[string]`, is deprecated and will be removed in a future version. Use `frame.loc[string]` instead.\n",
      "  databyDate[date][floor] = np.asarray(datadict[floor][date][features])\n"
     ]
    }
   ],
   "source": [
    "cutting_date = \"2019-08-08\"\n",
    "cutting_date2 = \"2019-09-09\"\n",
    "train_date, test_date = splitDate(remain_date, cutting_date)\n",
    "valid_date, test_date = splitDate(test_date, cutting_date2)\n",
    "databyDateX = createDataByDate(cleanedDataX, featureX, remain_date)"
   ]
  },
  {
   "cell_type": "code",
   "execution_count": 553,
   "id": "bf9f9cc7",
   "metadata": {
    "ExecuteTime": {
     "end_time": "2021-08-11T15:22:55.632146Z",
     "start_time": "2021-08-11T15:22:55.502486Z"
    }
   },
   "outputs": [],
   "source": [
    "loaderZtrain =LoaderByZoneNormal(databyDateX, myfloor, train_date, lookback, lookahead, batch_size,noise=False, shuffle=False)\n",
    "loaderZvalid = LoaderByZoneNormal(databyDateX, myfloor, valid_date, lookback, lookahead, batch_size, shuffle=False)\n",
    "loaderZtest = LoaderByZone(databyDateX, myfloor, test_date, lookback, lookahead, batch_size)"
   ]
  },
  {
   "cell_type": "markdown",
   "id": "d83ff58f",
   "metadata": {},
   "source": [
    "# Model"
   ]
  },
  {
   "cell_type": "code",
   "execution_count": 56,
   "id": "6590ea81",
   "metadata": {
    "ExecuteTime": {
     "end_time": "2021-08-11T12:20:57.907802Z",
     "start_time": "2021-08-11T12:20:57.882891Z"
    },
    "code_folding": [
     0,
     74,
     92
    ]
   },
   "outputs": [],
   "source": [
    "def ModelTraining(model, optimizer, loss_fn ,dataloader, validloader,scheduler,epochs=100, n_epochs_stop=10,clip=True):\n",
    "    seed_everything()\n",
    "    best_model_wts = copy.deepcopy(model.state_dict())\n",
    "    best_loss = 1e3\n",
    "    losses, mape, mae, validlosses, validmae = [], [], [], [], []\n",
    "    \n",
    "    for epoch in range(epochs):\n",
    "        run_loss, run_mape, run_mae = 0., 0., 0.\n",
    "        for data, label in dataloader:\n",
    "            #data = data.permute(1,0,2)\n",
    "            model.train()\n",
    "            optimizer.zero_grad()\n",
    "            with torch.enable_grad():\n",
    "                output = model(data)\n",
    "                #print(output.shape)\n",
    "                #output = output.permute(1,0,2).squeeze(-1)\n",
    "                mu, logvar = model.mu, model.logvar\n",
    "                loss_val = loss_fn(output, label, mu, logvar)\n",
    "                loss_val.backward()\n",
    "                if clip:\n",
    "                    nn.utils.clip_grad_norm_(model.parameters(), max_norm=2)\n",
    "                optimizer.step()\n",
    "                    \n",
    "            run_loss += loss_val.item()*data.size(0)\n",
    "            #run_mape += mean_absolute_percentage_error(label.detach().numpy(),output.detach().numpy())*data.size(0)\n",
    "            #run_mae  += mean_absolute_error(label.detach().numpy(),output.detach().numpy())*data.size(0)\n",
    "            \n",
    "        epoch_loss = run_loss/len(dataloader)\n",
    "        epoch_mape = run_mape/len(dataloader)\n",
    "        epoch_mae = run_mae/len(dataloader)\n",
    "        \n",
    "        running_val = 0.\n",
    "        for val, vallabel in validloader:\n",
    "            model.eval()\n",
    "            #val = val.permute(1,0,2)\n",
    "            with torch.no_grad():\n",
    "                output = model(val)\n",
    "                #output = output.permute(1,0,2).squeeze(-1)\n",
    "                mu, logvar = model.mu, model.logvar\n",
    "                val_loss = loss_fn(output, vallabel, mu, logvar)\n",
    "            running_val += val_loss.item()*data.size(0)\n",
    "            \n",
    "        epoch_val = running_val/len(validloader)\n",
    "        \n",
    "        validlosses.append(epoch_val)\n",
    "        losses.append(epoch_loss)\n",
    "        #mape.append(epoch_mape)\n",
    "        #mae.append(epoch_mae)\n",
    "        #print(\"Epoch: {} Loss: {} Best Loss: {} MAPE: {} MAE: {}\".format(epoch, epoch_loss, best_loss, epoch_mape, epoch_mae))\n",
    "        \n",
    "        print('[Epoch: {}]  Loss: {:.4f} ValidLoss {:.4f}'.\\\n",
    "              format(epoch, epoch_loss, epoch_val))#, #epoch_mae, epoch_mape))# MAE: {:.4f} MAPE: {:.4f}'.\\\n",
    "        \n",
    "        if epoch_val < best_loss:\n",
    "            epoch_no_improve = 0\n",
    "            best_loss = epoch_val\n",
    "            best_model_wts = copy.deepcopy(model.state_dict())\n",
    "        \n",
    "        else :\n",
    "            epoch_no_improve +=1\n",
    "            if epoch_no_improve == n_epochs_stop:\n",
    "                print(\"Early Stopping !!!\")\n",
    "                early_stop=True\n",
    "                break\n",
    "            else:\n",
    "                continue\n",
    "                \n",
    "        if scheduler is not None:\n",
    "            scheduler.step()\n",
    "        \n",
    "    model.load_state_dict(best_model_wts)\n",
    "    \n",
    "    return model, losses, validlosses#,mape, mae\n",
    "\n",
    "def ModelPrediction(model_to_test, date ,loader, lookahead):\n",
    "    prediction = []\n",
    "    true = []\n",
    "    for val, valpred in loader[date]:\n",
    "        model_to_test.eval()\n",
    "        #val = val.permute(1,0,2)\n",
    "        pred = model_to_test(val)\n",
    "        #pred = pred.permute(1,0,2).squeeze(-1)\n",
    "        #print(pred.shape)\n",
    "        prediction.append(pred.detach().numpy())\n",
    "        true.append(valpred.detach().numpy())\n",
    "    pred_array = np.asarray(prediction)\n",
    "    true_array = np.asarray(true)\n",
    "    pred_shape = pred_array.shape\n",
    "    flattenTrue = true_array.reshape(pred_shape[0]*pred_shape[1], lookahead)[::lookahead].flatten()\n",
    "    flattenPred = pred_array.reshape(pred_shape[0]*pred_shape[1], lookahead)[::lookahead].flatten()\n",
    "    return flattenTrue, flattenPred\n",
    "\n",
    "def PredictionMultipleDate(model, dates, date_begin, date_end, loader, lookahead, scalers, zone_name, ft_idx):\n",
    "    predictTrue = []\n",
    "    predictPred = []\n",
    "    valuePD = pd.DataFrame()\n",
    "    idx_begin = dates.index(date_begin)\n",
    "    idx_end = dates.index(date_end)\n",
    "    for date in dates[idx_begin:idx_end]:\n",
    "        true, pred = ModelPrediction(model, date, loader, lookahead)\n",
    "        maxi = scalers[zone_name].data_max_[ft_idx]\n",
    "        mini = scalers[zone_name].data_min_[ft_idx]\n",
    "        true = true.reshape(-1,1)*(maxi-mini) + mini\n",
    "        pred = pred.reshape(-1,1)*(maxi-mini) + mini\n",
    "        array = np.concatenate([true, pred],axis=1)\n",
    "        result = pd.DataFrame({\"Truth\": true.squeeze(),\n",
    "                              \"Prediction\" : pred.squeeze()})\n",
    "                              #\"Date\": pd.date_range(start=date,periods=true.shape[0], freq=\"5min\")})\n",
    "        valuePD = pd.concat((valuePD, result)).reset_index(drop=True)\n",
    "    return valuePD"
   ]
  },
  {
   "cell_type": "code",
   "execution_count": 10,
   "id": "fa40d821",
   "metadata": {
    "ExecuteTime": {
     "end_time": "2021-08-11T11:32:02.692287Z",
     "start_time": "2021-08-11T11:32:02.660589Z"
    },
    "code_folding": [
     0,
     30,
     55,
     104,
     149
    ]
   },
   "outputs": [],
   "source": [
    "class Encoder(nn.Module):\n",
    "    def __init__(self, nb_feat, hidden_size, nb_layers, latent_size, dropout, block=\"LSTM\"):\n",
    "        super(Encoder, self).__init__()\n",
    "        self.nb_feat = nb_feat\n",
    "        self.hidden_size = hidden_size\n",
    "        self.nb_layers = nb_layers\n",
    "        self.latent_size = latent_size\n",
    "        \n",
    "        if block == \"LSTM\":\n",
    "            self.rnn = nn.LSTM(self.nb_feat, self.hidden_size, self.nb_layers, dropout=dropout)\n",
    "        elif block==\"GRU\":\n",
    "            self.rnn = nn.GRU(self.nb_feat, self.hidden_size, self.nb_layers, dropout=dropout)\n",
    "        else:\n",
    "            raise NotImplementedError\n",
    "            \n",
    "    def forward(self, x):\n",
    "        if block==\"LSTM\":\n",
    "            out_end, (h_end, c_end) = self.rnn(x)\n",
    "        elif block==\"GRU\":\n",
    "            out_end, h_end = self.rnn(x)\n",
    "        else:\n",
    "            raise NotImplementedError\n",
    "        \n",
    "        #print(c_end.shape, h_end.shape)\n",
    "        #h_end = c_end[-1,:,:]\n",
    "        #print(h_end.shape)\n",
    "        out_end = out_end[-1,:,:]\n",
    "        #print(out_end.shape)\n",
    "        return out_end\n",
    "    \n",
    "class Lambda(nn.Module):\n",
    "    def __init__(self, hidden_size, latent_size):\n",
    "        super(Lambda, self).__init__()\n",
    "        \n",
    "        self.hidden_size = hidden_size\n",
    "        self.latent_size = latent_size\n",
    "        \n",
    "        self.hidden_mu = nn.Linear(self.hidden_size, self.latent_size)\n",
    "        self.hidden_logvar = nn.Linear(self.hidden_size, self.latent_size)\n",
    "        nn.init.xavier_uniform_(self.hidden_mu.weight)\n",
    "        nn.init.xavier_uniform_(self.hidden_logvar.weight)\n",
    "        \n",
    "    def forward(self, en_output):\n",
    "        self.latent_mu = self.hidden_mu(en_output)\n",
    "        self.latent_logvar = self.hidden_logvar(en_output)\n",
    "        \n",
    "        if self.training:\n",
    "            std = torch.exp(0.5*self.latent_logvar)\n",
    "            shape = std.shape\n",
    "            #eps = torch.randn_like(std)\n",
    "            eps = torch.normal(0,1,shape)\n",
    "            return eps.mul(std).add_(self.latent_mu)\n",
    "        else:\n",
    "            return self.latent_mu\n",
    "        \n",
    "class Decoder(nn.Module):\n",
    "    def __init__(self, seq_len, batch_size, hidden_size, nb_layers, latent_size, output_size, block='LSTM'):\n",
    "        super(Decoder, self).__init__()\n",
    "        self.seq_len = seq_len\n",
    "        self.batch_size = batch_size\n",
    "        self.hidden_size = hidden_size\n",
    "        self.nb_layers = nb_layers\n",
    "        self.latent_size = latent_size\n",
    "        self.output_size = output_size\n",
    "        \n",
    "        if block == \"LSTM\":\n",
    "            self.rnn = nn.LSTM(self.latent_size, self.hidden_size,self.nb_layers)\n",
    "        elif block==\"GRU\":\n",
    "            self.rnn = nn.GRU(self.latent_size, self.hidden_size, self.nb_layers)\n",
    "        else:\n",
    "            raise NotImplementedError\n",
    "            \n",
    "        self.latent_hidden = nn.Linear(self.latent_size, self.hidden_size)\n",
    "        self.hidden_output = nn.Linear(self.hidden_size, self.output_size)\n",
    "        \n",
    "        #self.decoder_inputs = torch.randn((self.latent_size, self.batch_size, 1), requires_grad=True)\n",
    "        self.h_0 = torch.zeros(self.nb_layers, self.batch_size, self.hidden_size, requires_grad=True)\n",
    "        self.c_0 = torch.zeros(self.nb_layers, self.batch_size, self.hidden_size, requires_grad=True)\n",
    "        \n",
    "        #nn.init.xavier_uniform_(self.latent_hidden.weight)\n",
    "        nn.init.xavier_uniform_(self.hidden_output.weight)\n",
    "        \n",
    "    def forward(self, latent, inputs):\n",
    "        \n",
    "        #h_state = self.latent_hidden(latent)\n",
    "        inputs = inputs.permute()\n",
    "        decoder_input = latent.unsqueeze(0).repeat(self.seq_len,1,1)\n",
    "        #print(decoder_input.shape)\n",
    "        if isinstance(self.rnn, nn.LSTM):\n",
    "            #h_0 = torch.stack([h_state for _ in range(self.nb_layers)])\n",
    "            decoder_output, _ = self.rnn(decoder_input,(self.h_0, self.c_0))\n",
    "        elif isinstance(self.rnn, nn.GRU):\n",
    "            h_0 = torch.stack([h_state for _ in range(self.nb_layers)])\n",
    "            decoder_output, _ = self.rnn(self.decoder_inputs, h_0)\n",
    "        else:\n",
    "            raise NotImplementedError\n",
    "            \n",
    "        #print(hidden_out.shape)\n",
    "        #print(f'output decoe {decoder_output.shape}')\n",
    "        \n",
    "        out = self.hidden_output(decoder_output)\n",
    "        #print(f'final decoe {out.shape}')\n",
    "        return out\n",
    "    \n",
    "class VAE(nn.Module):\n",
    "    def __init__(self,nb_feat, hidden_size, nb_layers, latent_size, dropout, seq_len, batch_size, output_size, block=\"LSTM\"):\n",
    "        super(VAE, self).__init__()\n",
    "        \n",
    "        self.nb_feat = nb_feat\n",
    "        self.hidden_size = hidden_size\n",
    "        self.nb_layers = nb_layers\n",
    "        self.latent_size = latent_size\n",
    "        self.dropout = dropout\n",
    "        self.seq_len = seq_len \n",
    "        self.batch_size = batch_size\n",
    "        self.output_size = output_size\n",
    "        self.block = block\n",
    "        \n",
    "        self.encoder = Encoder(nb_feat=nb_feat,\n",
    "                               hidden_size=hidden_size,\n",
    "                               nb_layers= nb_layers, \n",
    "                               latent_size= latent_size,\n",
    "                               dropout=dropout,\n",
    "                               block=block)\n",
    "        \n",
    "        self.lamb = Lambda(hidden_size=hidden_size, latent_size=latent_size)\n",
    "        \n",
    "        self.decoder = Decoder(seq_len=seq_len,\n",
    "                              batch_size=batch_size,\n",
    "                              hidden_size=hidden_size,\n",
    "                              nb_layers=nb_layers,\n",
    "                              latent_size=latent_size,\n",
    "                              output_size=output_size,\n",
    "                              block=block)\n",
    "        \n",
    "    def forward(self,x):\n",
    "        encoder_out = self.encoder(x)\n",
    "        latent = self.lamb(encoder_out)\n",
    "        output = self.decoder(latent)\n",
    "            \n",
    "        return output\n",
    "    def _transform(self,x):\n",
    "        out = self.encoder(x)\n",
    "        z = self.lamb(out.detach())\n",
    "        return z\n",
    "    def _reconstruct(self, x):\n",
    "        value = self.decoder(x)\n",
    "        return value.detach()\n",
    "    \n",
    "def combineLoss(y_pred,y,mu,logvar):\n",
    "    smoothl1 = F.smooth_l1_loss(y_pred,y,)\n",
    "    kld = -0.5*torch.mean(1 + logvar - mu.pow(2) - logvar.exp())\n",
    "    return smoothl1 + kld"
   ]
  },
  {
   "cell_type": "code",
   "execution_count": 555,
   "id": "8f838353",
   "metadata": {
    "ExecuteTime": {
     "end_time": "2021-08-11T15:24:17.820589Z",
     "start_time": "2021-08-11T15:24:17.785029Z"
    },
    "code_folding": []
   },
   "outputs": [],
   "source": [
    "class VanillaVAE(nn.Module):\n",
    "    \n",
    "    def __init__(self,input_dim, input_length, hidden_dim, latent_dim, output_length):\n",
    "        super(VanillaVAE,self).__init__()\n",
    "        self.latent_dim = latent_dim\n",
    "        self.hidden_dim = hidden_dim\n",
    "        self.input_dim = input_dim\n",
    "        self.output_length = output_length\n",
    "        self.input_length = input_length\n",
    "        #Encoder\n",
    "        self.encoder = nn.Linear(in_features=input_dim*input_length, out_features=hidden_dim)\n",
    "        self.relu = nn.LeakyReLU()\n",
    "        #Latentspace\n",
    "        self.fc_mu = nn.Linear(hidden_dim, latent_dim)\n",
    "        self.fc_var = nn.Linear(hidden_dim, latent_dim)\n",
    "        \n",
    "        #Decoder\n",
    "        self.decoder = nn.Linear(latent_dim, hidden_dim, bias=True)\n",
    "        self.fc_decoder1 = nn.Linear(hidden_dim, latent_dim)\n",
    "        self.fc_decoder2 = nn.Linear(latent_dim, output_length)\n",
    "        self.fc_out = nn.Linear(hidden_dim, input_dim)\n",
    "        \n",
    "        self.drop = nn.Dropout(0.4)\n",
    "        \n",
    "    def initHidden(self,batch_size):\n",
    "        return (torch.zeros(1, batch_size, self.hidden_dim),\n",
    "                torch.zeros(1, batch_size, self.hidden_dim))\n",
    "        \n",
    "        \n",
    "    def buildEncoder(self, inputs):\n",
    "        shape = inputs.shape\n",
    "        #print(inputs.shape)\n",
    "        #print(inputs.view(-1, shape[1]*shape[2]).shape)\n",
    "        result = self.encoder(inputs.view(-1, inputs.shape[1]*inputs.shape[2]))\n",
    "        result = self.drop(result)\n",
    "        flatten_hid = self.relu(result)\n",
    "        #flatten_hid = result[-1,:,:].view(inputs.shape[0],self.hidden_dim)\n",
    "        #print(flatten_hid.shape)\n",
    "        mu = self.fc_mu(flatten_hid)\n",
    "        log_var = self.fc_var(flatten_hid)\n",
    "        \n",
    "        return mu, log_var, flatten_hid\n",
    "    \n",
    "    def buildDecoder(self, z):\n",
    "        result = self.decoder(z)\n",
    "        #print(f\"decode {hidden[0].shape}\")\n",
    "        latent_layer = self.relu(self.fc_decoder1(result))\n",
    "        output_layer = self.fc_decoder2(latent_layer)\n",
    "        return output_layer\n",
    "    \n",
    "    def reparameterize(self, mu, logvar):\n",
    "        std = torch.exp(0.5*logvar)\n",
    "        eps = torch.randn_like(std)\n",
    "        return eps*std + mu\n",
    "    '''\n",
    "    def forward(self, source):\n",
    "        mu, log_var = self.buildEncoder(source)\n",
    "        z = self.reparameterize(mu, log_var)\n",
    "        z = z.unsqueeze(1).repeat(1,self.output_length, 1)\n",
    "        #print(z.shape)\n",
    "        decode_out, _ = self.decoder(z)\n",
    "        fc_out = self.fc_out(torch.relu(decode_out))\n",
    "        return fc_out.squeeze(-1), mu, log_var'''\n",
    "    \n",
    "    \n",
    "    def forward(self, source):\n",
    "        batch_size = source.shape[0]\n",
    "        mu, log_var, hidden = self.buildEncoder(source)\n",
    "        reparam = self.reparameterize(mu, log_var)\n",
    "        #decoder_hidden = hidden#self.initHidden(batch_size)\n",
    "        #print(f\"decode hidden {decoder_hidden[0].shape}\")\n",
    "        #decoder_input = self.reparameterize(mu, log_var)\n",
    "        #print(f\"outside loop {decoder_input.shape}\")\n",
    "        #outputs = torch.zeros(self.output_length,batch_size,self.input_dim)\n",
    "        decoder_output = self.buildDecoder(reparam)\n",
    "        return decoder_output, mu, log_var\n",
    "\n",
    "class EncoderCNN(nn.Module):\n",
    "    \n",
    "    def __init__(self, input_chan, ts_in_len , output_chan, hidden_size, kernel_size, pool):\n",
    "        super(EncoderCNN, self).__init__()\n",
    "        \n",
    "        self.input_chan= input_chan\n",
    "        self.ts_in_len = ts_in_len\n",
    "        self.output_chan = output_chan\n",
    "        self.hidden_size = hidden_size\n",
    "        self.kernel_size = kernel_size\n",
    "        self.pool = pool\n",
    "        \n",
    "        self.cnn = nn.Conv1d(in_channels=input_chan, out_channels= output_chan, kernel_size=kernel_size,\n",
    "                            stride=1, padding=int(np.floor(kernel_size/2)))\n",
    "        self.maxpool = nn.MaxPool1d(pool)\n",
    "        self.batchnorm = nn.BatchNorm1d(output_chan)\n",
    "        self.toHidden = nn.Linear(output_chan*int((ts_in_len/pool)), hidden_size)\n",
    "        \n",
    "    def forward(self, x):\n",
    "        inputs = x.permute(0,2,1)\n",
    "        #inputs = x\n",
    "        out = self.cnn(inputs)\n",
    "        #print(out.shape)\n",
    "        out = self.batchnorm(out)\n",
    "        out = self.maxpool(out)\n",
    "        out = nn.LeakyReLU()(out)\n",
    "        #print(out.shape)\n",
    "        out = out.view(-1, out.shape[1]*out.shape[2])\n",
    "        out = self.toHidden(out)\n",
    "        return out\n",
    "#class UnFlatten(nn.Module):\n",
    "#    def forward(self, inputs):\n",
    "#        return inputs.view(inputs.size(0),inputs.size)\n",
    "\n",
    "class CNNVAE(nn.Module):\n",
    "    def __init__(self, input_chan, output_chan, ts_len_in, ts_len_out, hidden_dim, latent_dim, kernel_size_en, kernel_size_de):\n",
    "        super(CNNVAE, self).__init__()\n",
    "        self.input_chan = input_chan\n",
    "        self.ts_len_in = ts_len_in\n",
    "        self.ts_len_out = ts_len_out\n",
    "        self.hidden_dim = hidden_dim\n",
    "        self.latent_dim = latent_dim\n",
    "        self.output_chan = output_chan\n",
    "        self.pool = 2\n",
    "        self.kernel_size_en = kernel_size_en\n",
    "        self.kernel_size_de = kernel_size_de\n",
    "        \n",
    "        #Encoder \n",
    "        self.encoder = nn.Sequential(\n",
    "            nn.Conv1d(in_channels=input_chan, out_channels=16, kernel_size=kernel_size_en, stride=1, \n",
    "                      padding=int(np.floor(kernel_size_en/2))),\n",
    "            #nn.BatchNorm1d(16),\n",
    "            nn.ReLU(),\n",
    "            nn.Conv1d(in_channels=16, out_channels=output_chan,kernel_size=kernel_size_en,stride=1,\n",
    "                     padding=int(np.floor(kernel_size_en/2))),\n",
    "            #nn.BatchNorm1d(output_chan),\n",
    "            #nn.MaxPool1d(self.pool),\n",
    "            nn.ReLU())\n",
    "        \n",
    "        self.en_to_hidden = nn.Linear(output_chan*ts_len_in, hidden_dim)\n",
    "        \n",
    "        self.hidden_to_mu = nn.Linear(hidden_dim, latent_dim)\n",
    "        self.hidden_to_logvar = nn.Linear(hidden_dim, latent_dim)\n",
    "        \n",
    "        self.latent_to_hidden = nn.Linear(latent_dim, hidden_dim)\n",
    "        self.hidden_to_normal = nn.Linear(hidden_dim, output_chan*ts_len_out)\n",
    "        \n",
    "        #self.decoder_to_output = nn.Linear(64*latent_dim, ts_len_out)\n",
    "        \n",
    "        #Decoder\n",
    "        '''\n",
    "        self.decoder = nn.Sequential(\n",
    "            nn.Linear(latent_dim,64),\n",
    "            nn.Dropout(0.2),\n",
    "            nn.LeakyReLU(),\n",
    "            nn.Linear(64,ts_len_out))'''\n",
    "        \n",
    "        self.decoder = nn.Sequential(\n",
    "            nn.ConvTranspose1d(output_chan, 1, kernel_size=kernel_size_de, padding=int(np.floor(kernel_size_de/2))),\n",
    "            #nn.BatchNorm1d(16),\n",
    "            #nn.LeakyReLU(),\n",
    "            #nn.ConvTranspose1d(16, 1, kernel_size, padding=int(np.floor(kernel_size/2))),\n",
    "            nn.Sigmoid())\n",
    "        \n",
    "    def latentSpace(self, h):\n",
    "        self.mu = self.hidden_to_mu(h)\n",
    "        self.logvar = self.hidden_to_logvar(h)\n",
    "        z = self.reparameterize(self.mu, self.logvar)\n",
    "        return z, self.mu, self.logvar\n",
    "        \n",
    "    def forward(self, x):\n",
    "        inputs = x.permute(0,2,1)\n",
    "        encoder_out = self.encoder(inputs)\n",
    "        #print(encoder_out.shape)\n",
    "        encoder_out = encoder_out.view(-1, encoder_out.shape[1]*encoder_out.shape[2])\n",
    "        #print(f'encode {encoder_out.shape}')\n",
    "        #hidden = encoder_out.view(-1, encoder_out.shape[1]*encoder_out.shape[2])\n",
    "        hidden = self.en_to_hidden(encoder_out)\n",
    "        #print(f'hidden {hidden.shape}')\n",
    "        z, mu, logvar = self.latentSpace(hidden)\n",
    "        #print(f'z {z.shape}')\n",
    "        zback = self.latent_to_hidden(z)\n",
    "        #print(f'zback {zback.shape}')\n",
    "        zback = self.hidden_to_normal(zback)\n",
    "        #print(f'zback {zback.shape}')\n",
    "        zback = zback.view(z.shape[0], self.output_chan, self.ts_len_out)\n",
    "        decoder_out = self.decoder(zback)\n",
    "        #print(f'de out {decoder_out.shape}')\n",
    "        #print(decoder_out.shape)\n",
    "        decoder_out = decoder_out.view(-1, decoder_out.shape[1]*decoder_out.shape[2])\n",
    "        #print(f'de out {decoder_out.shape}')\n",
    "        #out = self.decoder_to_output(decoder_out)\n",
    "        #out = nn.Sigmoid()(out)\n",
    "        \n",
    "        return decoder_out\n",
    "        \n",
    "        \n",
    "    def reparameterize(self,mu, logvar):\n",
    "        #if self.training:\n",
    "        std = torch.exp(0.5*logvar)\n",
    "        eps = torch.randn_like(std)\n",
    "        return eps*std + mu\n",
    "#        else:\n",
    "#            return mu\n",
    "        "
   ]
  },
  {
   "cell_type": "code",
   "execution_count": 56,
   "id": "c7db74b0",
   "metadata": {
    "ExecuteTime": {
     "end_time": "2021-08-11T09:09:38.480055Z",
     "start_time": "2021-08-11T09:09:38.476829Z"
    }
   },
   "outputs": [],
   "source": [
    "nb_feat = 1\n",
    "hidden_size = 50\n",
    "nb_layers=1\n",
    "latent_size=10\n",
    "dropout=0.2\n",
    "seq_len_out = lookahead\n",
    "output_size = 1\n",
    "block=\"LSTM\""
   ]
  },
  {
   "cell_type": "code",
   "execution_count": 512,
   "id": "45fb1ef0",
   "metadata": {
    "ExecuteTime": {
     "end_time": "2021-08-11T15:13:43.742990Z",
     "start_time": "2021-08-11T15:13:43.729611Z"
    }
   },
   "outputs": [],
   "source": [
    "#vrae = VAE(nb_feat=nb_feat,hidden_size=hidden_size,nb_layers=nb_layers,latent_size=latent_size,\n",
    "#          dropout=dropout,seq_len=seq_len_out,batch_size=batch_size,output_size=output_size,block=block)\n",
    "#vrae = VanillaVAE(input_dim=nb_feat, input_length=lookback, hidden_dim=512, latent_dim=256,output_length=5)\n",
    "cnnvae = CNNVAE(input_chan=1, output_chan=32, ts_len_in=lookback, \n",
    "                ts_len_out=lookahead, \n",
    "                hidden_dim=512, \n",
    "                latent_dim=256,\n",
    "                kernel_size_en=3, \n",
    "                kernek_size_de=5)\n",
    "optimizerTemp = optim.Adam(cnnvae.parameters(), lr=0.001)\n",
    "scheduler = optim.lr_scheduler.ExponentialLR(optimizerTemp,gamma=0.9)"
   ]
  },
  {
   "cell_type": "code",
   "execution_count": 513,
   "id": "47e9d935",
   "metadata": {
    "ExecuteTime": {
     "end_time": "2021-08-11T15:17:56.327465Z",
     "start_time": "2021-08-11T15:13:44.444133Z"
    },
    "scrolled": true
   },
   "outputs": [
    {
     "name": "stdout",
     "output_type": "stream",
     "text": [
      "[Epoch: 0]  Loss: 0.2731 ValidLoss 0.1705\n",
      "[Epoch: 1]  Loss: 0.2149 ValidLoss 0.1593\n",
      "[Epoch: 2]  Loss: 0.2066 ValidLoss 0.1573\n",
      "[Epoch: 3]  Loss: 0.1833 ValidLoss 0.1136\n",
      "[Epoch: 4]  Loss: 0.1297 ValidLoss 0.1126\n",
      "[Epoch: 5]  Loss: 0.1261 ValidLoss 0.1117\n",
      "[Epoch: 6]  Loss: 0.1238 ValidLoss 0.1093\n",
      "[Epoch: 7]  Loss: 0.1221 ValidLoss 0.1092\n",
      "[Epoch: 8]  Loss: 0.1208 ValidLoss 0.1080\n",
      "[Epoch: 9]  Loss: 0.1206 ValidLoss 0.1076\n",
      "[Epoch: 10]  Loss: 0.1197 ValidLoss 0.1084\n",
      "[Epoch: 11]  Loss: 0.1193 ValidLoss 0.1083\n",
      "[Epoch: 12]  Loss: 0.1191 ValidLoss 0.1071\n",
      "[Epoch: 13]  Loss: 0.1186 ValidLoss 0.1079\n",
      "[Epoch: 14]  Loss: 0.1187 ValidLoss 0.1075\n",
      "[Epoch: 15]  Loss: 0.1184 ValidLoss 0.1082\n",
      "[Epoch: 16]  Loss: 0.1185 ValidLoss 0.1068\n",
      "[Epoch: 17]  Loss: 0.1189 ValidLoss 0.1082\n",
      "[Epoch: 18]  Loss: 0.1187 ValidLoss 0.1076\n",
      "[Epoch: 19]  Loss: 0.1176 ValidLoss 0.1076\n",
      "[Epoch: 20]  Loss: 0.1177 ValidLoss 0.1075\n",
      "[Epoch: 21]  Loss: 0.1181 ValidLoss 0.1071\n",
      "[Epoch: 22]  Loss: 0.1178 ValidLoss 0.1076\n",
      "[Epoch: 23]  Loss: 0.1184 ValidLoss 0.1069\n",
      "[Epoch: 24]  Loss: 0.1179 ValidLoss 0.1071\n",
      "[Epoch: 25]  Loss: 0.1176 ValidLoss 0.1074\n",
      "[Epoch: 26]  Loss: 0.1177 ValidLoss 0.1084\n",
      "Early Stopping !!!\n"
     ]
    }
   ],
   "source": [
    "modetrained, losses, validlosses = ModelTraining(model=cnnvae, optimizer=optimizerTemp,\n",
    "                                                loss_fn=combineLoss, dataloader=loaderZtrain,\n",
    "                                                validloader=loaderZvalid,scheduler=scheduler,epochs=100,\n",
    "                                                n_epochs_stop=10,clip=True)"
   ]
  },
  {
   "cell_type": "code",
   "execution_count": 514,
   "id": "2fce76d7",
   "metadata": {
    "ExecuteTime": {
     "end_time": "2021-08-11T15:18:01.199064Z",
     "start_time": "2021-08-11T15:18:01.104600Z"
    }
   },
   "outputs": [
    {
     "data": {
      "text/plain": [
       "[<matplotlib.lines.Line2D at 0x28bb8e310>]"
      ]
     },
     "execution_count": 514,
     "metadata": {},
     "output_type": "execute_result"
    },
    {
     "data": {
      "image/png": "[encoded data removed]",
      "text/plain": [
       "<Figure size 432x288 with 1 Axes>"
      ]
     },
     "metadata": {},
     "output_type": "display_data"
    }
   ],
   "source": [
    "plt.plot(losses)\n",
    "plt.plot(validlosses)"
   ]
  },
  {
   "cell_type": "code",
   "execution_count": 547,
   "id": "0cb1d8c9",
   "metadata": {
    "ExecuteTime": {
     "end_time": "2021-08-11T15:22:21.925499Z",
     "start_time": "2021-08-11T15:22:21.777892Z"
    }
   },
   "outputs": [],
   "source": [
    "seed_everything()\n",
    "idx_date = 0\n",
    "it = iter(loaderZtest[test_date[idx_date]])\n",
    "x,y = next(it)\n",
    "\n",
    "test = PredictToPredict(modetrained,x,260)"
   ]
  },
  {
   "cell_type": "code",
   "execution_count": 549,
   "id": "a013a6cc",
   "metadata": {
    "ExecuteTime": {
     "end_time": "2021-08-11T15:22:33.633336Z",
     "start_time": "2021-08-11T15:22:33.415813Z"
    }
   },
   "outputs": [
    {
     "data": {
      "text/plain": [
       "<AxesSubplot:>"
      ]
     },
     "execution_count": 549,
     "metadata": {},
     "output_type": "execute_result"
    },
    {
     "data": {
      "image/png": "[encoded data removed]",
      "text/plain": [
       "<Figure size 1296x360 with 1 Axes>"
      ]
     },
     "metadata": {},
     "output_type": "display_data"
    },
    {
     "data": {
      "image/png": "[encoded data removed]",
      "text/plain": [
       "<Figure size 1296x360 with 1 Axes>"
      ]
     },
     "metadata": {},
     "output_type": "display_data"
    }
   ],
   "source": [
    "ft_idx = 3\n",
    "maxi = scalersX[myfloor].data_max_[ft_idx]\n",
    "mini = scalersX[myfloor].data_min_[ft_idx]\n",
    "may = [date for date in test_date if '2019-09' in date]\n",
    "resultpd = PredictionMultipleDate(modetrained,test_date,may[0], may[5],loaderZtest,lookahead, scalersX, myfloor, ft_idx)\n",
    "\n",
    "plt.figure(figsize=(18,5))\n",
    "plt.plot(test[-1,lookback:,:].detach().numpy().squeeze()*(maxi-mini) + mini)\n",
    "resultpd[[\"Truth\"]].plot(figsize=(18,5))#,title=\"Model_\"+str(indexroom))"
   ]
  },
  {
   "cell_type": "code",
   "execution_count": 542,
   "id": "ca07e45c",
   "metadata": {
    "ExecuteTime": {
     "end_time": "2021-08-11T15:21:54.856804Z",
     "start_time": "2021-08-11T15:21:54.849667Z"
    }
   },
   "outputs": [],
   "source": [
    "def Prediction(model,sample):\n",
    "    model.eval()\n",
    "    with torch.no_grad():\n",
    "        pred = model(sample)\n",
    "        #pred = pred.permute(1,0,2).squeeze(-1)\n",
    "    return pred\n",
    "\n",
    "def PredictToPredict(model, sample,nb_pred):\n",
    "    init=sample\n",
    "    #sample = sample.permute(1,0,2)\n",
    "    #print(sample.shape)\n",
    "    #seed_everything()\n",
    "    for t in range(1,nb_pred+1):\n",
    "        series = Prediction(model, sample)\n",
    "        #print(series.shape)\n",
    "        init = torch.cat((init, series.unsqueeze(-1)), dim=1)\n",
    "        sample = init[:,-lookback:,:]\n",
    "        #print(sample.shape)\n",
    "        #sample = sample.permute(1,0,2)\n",
    "        #print(sample.shape)\n",
    "    return init"
   ]
  },
  {
   "cell_type": "code",
   "execution_count": null,
   "id": "5fe5f39d",
   "metadata": {},
   "outputs": [],
   "source": []
  }
 ],
 "metadata": {
  "kernelspec": {
   "display_name": "Python 3 (ipykernel)",
   "language": "python",
   "name": "python3"
  },
  "language_info": {
   "codemirror_mode": {
    "name": "ipython",
    "version": 3
   },
   "file_extension": ".py",
   "mimetype": "text/x-python",
   "name": "python",
   "nbconvert_exporter": "python",
   "pygments_lexer": "ipython3",
   "version": "3.8.10"
  },
  "toc": {
   "base_numbering": 1,
   "nav_menu": {},
   "number_sections": true,
   "sideBar": true,
   "skip_h1_title": false,
   "title_cell": "Table of Contents",
   "title_sidebar": "Contents",
   "toc_cell": false,
   "toc_position": {},
   "toc_section_display": true,
   "toc_window_display": false
  }
 },
 "nbformat": 4,
 "nbformat_minor": 5
}
