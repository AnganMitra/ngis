{
 "cells": [
  {
   "cell_type": "code",
   "execution_count": 1,
   "id": "5e7bc4fe",
   "metadata": {
    "ExecuteTime": {
     "end_time": "2021-08-07T10:53:44.692094Z",
     "start_time": "2021-08-07T10:53:43.726155Z"
    }
   },
   "outputs": [],
   "source": [
    "import torch\n",
    "import torch.nn as nn\n",
    "import numpy as np\n",
    "import pandas as pd\n",
    "import os\n",
    "import torch.optim as optim\n",
    "import matplotlib.pyplot as plt\n",
    "import seaborn as sns; sns.set()\n",
    "import copy\n",
    "import random\n",
    "from sklearn.preprocessing import MinMaxScaler\n",
    "from sklearn.metrics import mean_absolute_error, mean_absolute_percentage_error\n",
    "from collections import defaultdict\n",
    "from torch.utils.data import TensorDataset, DataLoader"
   ]
  },
  {
   "cell_type": "code",
   "execution_count": 2,
   "id": "99a4b06f",
   "metadata": {
    "ExecuteTime": {
     "end_time": "2021-08-07T10:53:45.212616Z",
     "start_time": "2021-08-07T10:53:45.208894Z"
    }
   },
   "outputs": [],
   "source": [
    "bkdatafolder = \"/Volumes/T7 Touch/TheseProject/DR_KELLA/BKDataCleaned/\"\n",
    "dataset_name = os.listdir(bkdatafolder)"
   ]
  },
  {
   "cell_type": "code",
   "execution_count": 3,
   "id": "2c222b06",
   "metadata": {
    "ExecuteTime": {
     "end_time": "2021-08-07T10:53:46.869335Z",
     "start_time": "2021-08-07T10:53:46.842186Z"
    }
   },
   "outputs": [],
   "source": [
    "def createDictFloor(floor_name):\n",
    "    getdict = {}\n",
    "    floors = [floor for floor in dataset_name if floor_name in floor]\n",
    "    for name in floors:\n",
    "        floorname = name.split(\".\")[0]\n",
    "        getdict[floorname] = pd.read_csv(bkdatafolder+name, index_col=0, parse_dates=[\"Date\"])\n",
    "        getdict[floorname] = getdict[floorname].sort_index()\n",
    "    return getdict\n",
    "\n",
    "def Missing_values(data):\n",
    "    total = data.isnull().sum().sort_values(ascending=False)\n",
    "    percent = (data.isnull().sum()/data.isnull().count()).sort_values(ascending=False)\n",
    "    missing_data = pd.concat([total,percent], axis=1, keys=['Total', 'Pourcentage'])\n",
    "    print (missing_data[(percent>0)],'\\n' )\n",
    "\n",
    "def seed_everything(seed=0):\n",
    "    random.seed(seed)\n",
    "    os.environ['PYTHONHASHSEED'] = str(seed)\n",
    "    np.random.seed(seed)\n",
    "    torch.manual_seed(seed)\n",
    "    torch.cuda.manual_seed(seed)\n",
    "    torch.backends.cudnn.deterministic = True\n",
    "    \n",
    "def createPlot(date1, date2, features, data):\n",
    "    for floor in data.keys():\n",
    "        data[floor].resample(\"5T\").mean()[features][date1:date2].plot(figsize=(20,7))\n",
    "        \n",
    "\n",
    "def createDTFeat(date1, date2, datadict, features, resample_method=\"sum\" ,scale=True):\n",
    "    resample_move = {}\n",
    "    index_nan = {}\n",
    "    index_small = {}\n",
    "    floors = list(datadict.keys())\n",
    "    dates = []\n",
    "    scalers = {}\n",
    "    for data in datadict.keys():\n",
    "        if resample_method == \"sum\":\n",
    "            resample_move[data] = floor_dict[data][date1:date2].resample(\n",
    "                \"5min\").sum()\n",
    "            \n",
    "        elif resample_method == \"max\":\n",
    "            resample_move[data] = floor_dict[data][date1:date2].resample(\n",
    "                \"5min\").max().bfill()\n",
    "        elif resample_method == \"mean\":\n",
    "            resample_move[data] = floor_dict[data][date1:date2].resample(\n",
    "                \"5min\").mean().bfill()\n",
    "            \n",
    "        cols = resample_move[data].columns\n",
    "        idx = resample_move[data].index\n",
    "\n",
    "        if scale:\n",
    "            scaler = MinMaxScaler()\n",
    "            scaler.fit(resample_move[data])\n",
    "            resample_move[data] = pd.DataFrame(scaler.transform(\n",
    "                resample_move[data]),\n",
    "                                               columns=cols,\n",
    "                                               index=idx)\n",
    "            scalers[data] = scaler\n",
    "\n",
    "        resample_move[data][\"weekday\"] = resample_move[data].index.day_name()\n",
    "        resample_move[data][\"date\"] = resample_move[data].index.date\n",
    "        resample_move[data][\"time\"] = resample_move[data].index.time\n",
    "\n",
    "        nan = np.where(pd.isnull(resample_move[data][features]))[0]\n",
    "        index_nan[data] = np.unique(resample_move[data].iloc[nan][\"time\"])\n",
    "\n",
    "    return resample_move, scalers, index_nan\n",
    "\n",
    "def getInfoTimeShape(datadict):\n",
    "    for floor in datadict.keys():\n",
    "        data = datadict[floor]\n",
    "        print(\"Floor : {} , shape :{} , TimeMin {} , TimeMax {}\".format(floor,data.shape, data.index.min(), data.index.max()))\n",
    "        Missing_values(data)\n",
    "        \n",
    "def cleanNan(data,idx_nan):\n",
    "    index=[]\n",
    "    for k,v in idx_nan.items():\n",
    "        for ele in v:\n",
    "            index.append(ele)\n",
    "    mynan = set(index)\n",
    "    newdata = data.copy()\n",
    "    remain_date = []\n",
    "    for floor in idx_nan.keys():\n",
    "        datafloor = data[floor]\n",
    "        todropnan = datafloor[datafloor[\"date\"].isin(list(mynan))].index\n",
    "        datafloor = datafloor.drop(todropnan)\n",
    "        newdata[floor] = datafloor\n",
    "        for date in datafloor[\"date\"]:\n",
    "            remain_date.append(str(date))\n",
    "    remain_date = sorted(set(remain_date))\n",
    "    return data, remain_date"
   ]
  },
  {
   "cell_type": "code",
   "execution_count": 4,
   "id": "8287a9da",
   "metadata": {
    "ExecuteTime": {
     "end_time": "2021-08-07T10:53:47.337933Z",
     "start_time": "2021-08-07T10:53:47.308741Z"
    }
   },
   "outputs": [],
   "source": [
    "def rolling_window(series, window_size):\n",
    "    return np.array([series[i : (i + window_size)] for i in range(0, series.shape[0] - window_size + 1)])\n",
    "\n",
    "def to_timeseries_input(series, lookback, predictions):\n",
    "    inputs = rolling_window(series[:-predictions], lookback)\n",
    "    outputs = rolling_window(series[lookback:], predictions)\n",
    "    return inputs, outputs\n",
    "\n",
    "def createDataByDate(datadict, features, dates):\n",
    "    databyDate = defaultdict(lambda : defaultdict(dict))\n",
    "    for date in dates:\n",
    "        for floor in datadict.keys():\n",
    "            databyDate[date][floor] = np.asarray(datadict[floor][date][features])\n",
    "    return databyDate\n",
    "\n",
    "def splitDate(dates,cutoff):\n",
    "    train_date = [x for x in dates if x <= cutoff]\n",
    "    test_date = sorted(list(set(dates) - set(train_date)))\n",
    "    return train_date, test_date\n",
    "\n",
    "def getInfoDataByDate(data, dates):\n",
    "    for date in dates:\n",
    "        print(\"Date : {}\".format(date))\n",
    "        for floor in data[date]:\n",
    "            print(\"{} shape : {}\".format(floor,data[date][floor].shape))\n",
    "            \n",
    "def LoaderByZone(data,zone_name,dates, lookback, lookahead, batch_size, shuffle=False):\n",
    "    loaderZ = {}\n",
    "    for i,date in enumerate(dates):\n",
    "        haruharu = data[date][zone_name]\n",
    "        trainx, trainy = to_timeseries_input(haruharu, lookback, lookahead,)\n",
    "        xshape = torch.tensor(trainx, dtype=torch.float).unsqueeze(-1)\n",
    "        yshape = torch.tensor(trainy, dtype=torch.float)\n",
    "        tensorwrap = TensorDataset(xshape,yshape)\n",
    "        loaderxy = DataLoader(tensorwrap,batch_size = batch_size, shuffle=shuffle, drop_last=True)\n",
    "        loaderZ[date] = loaderxy\n",
    "    return loaderZ\n",
    "\n",
    "def LoaderByZoneNormal(data,zone_name,dates, lookback, lookahead, batch_size, shuffle=False):\n",
    "    firstday = data[dates[0]][zone_name]\n",
    "    myX, myY = to_timeseries_input(firstday, lookback, lookahead)\n",
    "    for date in dates[1:]:\n",
    "        haruharu = data[date][zone_name]\n",
    "        trainx, trainy = to_timeseries_input(haruharu, lookback, lookahead)\n",
    "        myX = np.vstack((myX, trainx))\n",
    "        myY = np.vstack((myY, trainy))\n",
    "    xshape = torch.tensor(myX, dtype=torch.float).unsqueeze(-1)\n",
    "    yshape = torch.tensor(myY, dtype=torch.float)\n",
    "    tensorwrap = TensorDataset(xshape, yshape)\n",
    "    loaderxy = DataLoader(tensorwrap, batch_size=batch_size, shuffle=shuffle, drop_last=True)\n",
    "    return loaderxy\n",
    "\n",
    "def LoaderByZoneXY(dataX, dataY, zone_name,dates, seq_len, batch_size, shuffle=False):\n",
    "    loaderZ = {}\n",
    "    for i,date in enumerate(dates):\n",
    "        trainx = rolling_window(dataX[date][zone_name], seq_len)\n",
    "        trainy = rolling_window(dataY[date][zone_name], seq_len)\n",
    "        xshape = torch.tensor(trainx, dtype=torch.float).unsqueeze(-1)\n",
    "        yshape = torch.tensor(trainy, dtype=torch.float)\n",
    "        tensorwrap = TensorDataset(xshape,yshape)\n",
    "        loaderxy = DataLoader(tensorwrap,batch_size = batch_size, shuffle=shuffle, drop_last=True)\n",
    "        loaderZ[date] = loaderxy\n",
    "    return loaderZ\n",
    "\n",
    "def LoaderXYtrain(dataX, dataY, zone_name, dates, seq_len, batch_size, shuffle=False, val = True):\n",
    "    myX = rolling_window(dataX[dates[0]][zone_name], seq_len)\n",
    "    myY = rolling_window(dataY[dates[0]][zone_name], seq_len)\n",
    "    for date in dates[1:]:\n",
    "        seqX = rolling_window(dataX[date][zone_name], seq_len)\n",
    "        seqY = rolling_window(dataY[date][zone_name], seq_len)\n",
    "        myX = np.vstack((myX, seqX))\n",
    "        myY = np.vstack((myY, seqY))\n",
    "    xshape = torch.tensor(myX, dtype=torch.float).unsqueeze(-1)\n",
    "    yshape = torch.tensor(myY, dtype=torch.float)\n",
    "    tensorwrap = TensorDataset(xshape, yshape)\n",
    "    total_data = len(tensorwrap)\n",
    "    if val:\n",
    "        train_size = int(0.8*total_data)\n",
    "        train_set, val_set = torch.utils.data.random_split(tensorwrap, [train_size, total_data - train_size],\n",
    "                                                          generator=torch.Generator().manual_seed(0))\n",
    "        loadertrain = DataLoader(train_set, batch_size = batch_size, shuffle=shuffle, drop_last=True)\n",
    "        loaderval = DataLoader(val_set, batch_size = batch_size, shuffle=shuffle, drop_last=True)\n",
    "        return loadertrain, loaderval\n",
    "    else :\n",
    "        loaderxy = DataLoader(tensorwrap, batch_size= batch_size, shuffle=shuffle, drop_last=True)\n",
    "        return loaderxy"
   ]
  },
  {
   "cell_type": "code",
   "execution_count": 5,
   "id": "cba43a45",
   "metadata": {
    "ExecuteTime": {
     "end_time": "2021-08-07T10:53:49.084307Z",
     "start_time": "2021-08-07T10:53:48.030019Z"
    }
   },
   "outputs": [
    {
     "name": "stdout",
     "output_type": "stream",
     "text": [
      "Floor7Z1 Start: 2019-03-06 14:50:00 End: 2019-12-31 23:59:00 Count:424099\n",
      "\n",
      "Floor7Z2 Start: 2019-03-06 14:48:00 End: 2019-12-31 23:59:00 Count:424701\n",
      "\n",
      "Floor7Z4 Start: 2019-03-06 14:46:00 End: 2019-12-31 23:59:00 Count:416243\n",
      "\n",
      "Floor7Z5 Start: 2019-03-06 14:55:00 End: 2019-12-31 23:59:00 Count:407698\n",
      "\n"
     ]
    }
   ],
   "source": [
    "date1 = \"2019-03-07\"\n",
    "date2 = \"2019-12-31\"\n",
    "floor_dict = createDictFloor(\"Floor7\")\n",
    "for data in floor_dict.keys():\n",
    "    zone = floor_dict[data]\n",
    "    print(\"{} Start: {} End: {} Count:{}\".format(data,zone.index.min(),zone.index.max(), zone.shape[0]))\n",
    "    print(\"\")"
   ]
  },
  {
   "cell_type": "markdown",
   "id": "5517b49a",
   "metadata": {},
   "source": [
    "# Model"
   ]
  },
  {
   "cell_type": "code",
   "execution_count": 789,
   "id": "6d8e42c3",
   "metadata": {
    "ExecuteTime": {
     "end_time": "2021-08-07T18:28:36.350761Z",
     "start_time": "2021-08-07T18:28:36.326161Z"
    },
    "code_folding": [
     62
    ]
   },
   "outputs": [],
   "source": [
    "class Encoder(nn.Module):\n",
    "    def __init__(self, input_dim, hid_dim, n_layers=1):\n",
    "        super(Encoder,self).__init__()\n",
    "        self.input_dim = input_dim\n",
    "        self.hid_dim = hid_dim\n",
    "        self.n_layers = n_layers\n",
    "        self.lstm = nn.LSTM(input_dim, hid_dim, n_layers, batch_first=False, bias=False)\n",
    "        \n",
    "    def forward(self, seq):\n",
    "        outputs, self.hidden = self.lstm(seq.reshape(seq.shape[1],seq.shape[0],self.input_dim))\n",
    "        return outputs, self.hidden\n",
    "    \n",
    "    def init_hidden(self, batch_size):\n",
    "        return (torch.zeros(self.n_layers, batch_size, self.hid_dim),\n",
    "                torch.zeros(self.n_layers, batch_size, self.hid_dim))\n",
    "    \n",
    "class Decoder(nn.Module):\n",
    "    def __init__(self, input_dim, hid_dim, output_dim, n_layers=1):\n",
    "        super(Decoder,self).__init__()\n",
    "        self.input_dim = input_dim\n",
    "        self.output_dim = output_dim\n",
    "        self.hid_dim = hid_dim\n",
    "        self.n_layers = n_layers\n",
    "        \n",
    "        self.lstm = nn.LSTM(input_dim, hid_dim, n_layers, batch_first = False, bias=False)\n",
    "        self.fc = nn.Linear(hid_dim, output_dim)\n",
    "        \n",
    "    def forward(self, x, encoder_hidden):\n",
    "        lstm_out, self.hidden = self.lstm(x.unsqueeze(0), encoder_hidden)\n",
    "        output = self.fc(lstm_out.squeeze(0))\n",
    "        return output, self.hidden\n",
    "    \n",
    "class Seq2Seq(nn.Module):\n",
    "    def __init__(self, input_dim, hid_dim, output_dim, ts_out, forcing = 0.85):\n",
    "        super(Seq2Seq,self).__init__()\n",
    "        self.output_dim = output_dim\n",
    "        self.ts_out = ts_out\n",
    "        self.encoder = Encoder(input_dim, hid_dim)\n",
    "        self.decoder = Decoder(input_dim,hid_dim,output_dim)\n",
    "        self.forcing = forcing\n",
    "\n",
    "        \n",
    "    def forward(self, source, y=None):\n",
    "        batch_size = source.shape[0]\n",
    "        target_len = self.ts_out\n",
    "        outputs = torch.zeros(target_len, batch_size,self.output_dim)\n",
    "        encoder_hidden = self.encoder.init_hidden(batch_size)\n",
    "        encoder_output, encoder_hidden = self.encoder(source)\n",
    "        \n",
    "        decoder_input = source[:,-1,:]\n",
    "        decoder_hidden = encoder_hidden\n",
    "        \n",
    "        for t in range(target_len):\n",
    "            decoder_output, decoder_hidden = self.decoder(decoder_input, decoder_hidden)\n",
    "            outputs[t] = decoder_output\n",
    "            if (y is not None) and (t>1) and (random.random() < self.forcing):\n",
    "                decoder_input = y[:,t].unsqueeze(1)\n",
    "            else :\n",
    "                decoder_input = decoder_output\n",
    "        return outputs.squeeze(-1).permute(1,0)\n",
    "    \n",
    "    \n",
    "class LSTM(nn.Module):\n",
    "    def __init__(self, input_size, output_size, time_step_in, time_step_out):\n",
    "        super(LSTM, self).__init__()\n",
    "        self.input_size = input_size\n",
    "        self.output_size = output_size\n",
    "        self.time_step_in = time_step_in\n",
    "        self.time_step_out = time_step_out\n",
    "        self.num_layers = 1\n",
    "        \n",
    "        self.encoder = nn.LSTM(self.input_size, self.output_size,\n",
    "                               num_layers=self.num_layers, batch_first=True, bias=True)\n",
    "        \n",
    "        self.batch = nn.BatchNorm1d(self.output_size)\n",
    "        self.linear2 = nn.Linear(self.num_layers*self.output_size, self.time_step_out)\n",
    "        \n",
    "    def forward(self,x):\n",
    "        out_en, (h_en,c_en) = self.encoder(x)\n",
    "        out = h_en.view(-1, self.num_layers*self.output_size)\n",
    "        out = self.batch(out)\n",
    "        out = nn.LeakyReLU()(out)\n",
    "        #out = torch.sigmoid(self.linear(out))\n",
    "        out = self.linear2(out)\n",
    "        return out"
   ]
  },
  {
   "cell_type": "code",
   "execution_count": 790,
   "id": "47195c0f",
   "metadata": {
    "ExecuteTime": {
     "end_time": "2021-08-07T18:28:36.571697Z",
     "start_time": "2021-08-07T18:28:36.558362Z"
    },
    "code_folding": [
     0,
     16
    ]
   },
   "outputs": [],
   "source": [
    "class EncoderRNN(nn.Module):\n",
    "    def __init__(self, input_size, hidden_size):\n",
    "        super(EncoderRNN, self).__init__()\n",
    "        self.hidden_size=hidden_size\n",
    "        self.input_size = input_size\n",
    "        \n",
    "        self.lstm = nn.LSTM(input_size=self.input_size, hidden_size = self.hidden_size, batch_first=False)\n",
    "    \n",
    "    def forward(self, inputs, hidden):\n",
    "        output, hidden = self.lstm(inputs.reshape(inputs.shape[1], inputs.shape[0], self.input_size), hidden)\n",
    "        return output, hidden\n",
    "    \n",
    "    def initHidden(self, batch_size):\n",
    "        return (torch.zeros(1, batch_size, self.hidden_size),\n",
    "                torch.zeros(1, batch_size, self.hidden_size))\n",
    "    \n",
    "class DecoderRNN(nn.Module):\n",
    "    def __init__(self,hidden_size, output_size):\n",
    "        super(DecoderRNN, self).__init__()\n",
    "        self.hidden_size = hidden_size\n",
    "        \n",
    "        self.lstm = nn.LSTM(input_size=output_size, hidden_size = self.hidden_size, batch_first=False)\n",
    "        self.out = nn.Linear(self.hidden_size, output_size)\n",
    "    \n",
    "    def forward(self, inputs, hidden):\n",
    "        output, hidden = self.lstm(inputs.reshape(inputs.shape[1], inputs.shape[0],1), hidden)\n",
    "        output = self.out(output[0])\n",
    "        return output, hidden\n",
    "    \n",
    "    def initHidden(self, batch_size):\n",
    "        return (torch.zeros(1, batch_size, self.hidden_size),\n",
    "                torch.zeros(1, batch_size, self.hidden_size))"
   ]
  },
  {
   "cell_type": "code",
   "execution_count": 791,
   "id": "00d5cb43",
   "metadata": {
    "ExecuteTime": {
     "end_time": "2021-08-07T18:28:38.293030Z",
     "start_time": "2021-08-07T18:28:38.275028Z"
    },
    "code_folding": [
     0,
     47
    ]
   },
   "outputs": [],
   "source": [
    "def train(input_tensor, target_tensor, encoder, decoder, encoder_optimizer, decoder_optimizer, loss_fn):\n",
    "    encoder_hidden = encoder.initHidden(batch_size)\n",
    "    \n",
    "    forcing = 0.5\n",
    "    \n",
    "    encoder_optimizer.zero_grad()\n",
    "    decoder_optimizer.zero_grad()\n",
    "    \n",
    "    input_length = lookback\n",
    "    target_length = lookahead\n",
    "    \n",
    "    encoder_outputs = torch.zeros(input_length, batch_size, encoder.hidden_size)\n",
    "    \n",
    "    loss = 0\n",
    "    \n",
    "    for ei in range(input_length):\n",
    "        encoder_output, encoder_hidden = encoder(input_tensor[:,ei:ei+1,:], encoder_hidden)\n",
    "        encoder_outputs[ei] = encoder_output[0,:]\n",
    "        \n",
    "    decoder_input = input_tensor[:,-1:,:]\n",
    "    decoder_hidden = encoder_hidden\n",
    "    \n",
    "    teacher_forcing = True if random.random() < forcing else False\n",
    "    \n",
    "    if teacher_forcing:\n",
    "        for di in range(target_length):\n",
    "            decoder_output, decoder_hidden = decoder(decoder_input, decoder_hidden)\n",
    "            #print(decoder_output.shape)\n",
    "            #print(target_tensor[:,di:di+1].shape)\n",
    "            loss += loss_fn(decoder_output, target_tensor[:,di:di+1])\n",
    "            decoder_input = target_tensor[:,di:di+1]\n",
    "            #print(decoder_input.shape)\n",
    "    else :\n",
    "        for di in range(target_length):\n",
    "            decoder_output, decoder_hidden = decoder(decoder_input, decoder_hidden)\n",
    "            decoder_input = decoder_output.detach()\n",
    "            loss += loss_fn(decoder_output, target_tensor[:,di:di+1])\n",
    "            #print(decoder_input.shape)\n",
    "    #return encoder_outputs\n",
    "    \n",
    "    loss.backward()\n",
    "    \n",
    "    encoder_optimizer.step()\n",
    "    decoder_optimizer.step()\n",
    "    \n",
    "    return loss.item()/target_length\n",
    "    \n",
    "def trainIters(encoder, decoder,dataloader,n_epochs, print_every=1, plot_every=10, learning_rate=0.01):\n",
    "    encoder_optim = optim.Adam(encoder.parameters(), lr=learning_rate)\n",
    "    decoder_optim = optim.Adam(decoder.parameters(), lr=learning_rate)\n",
    "    \n",
    "    loss_fn = nn.SmoothL1Loss()\n",
    "    \n",
    "    losses = []\n",
    "    for epoch in range(1, n_epochs +1):\n",
    "        run_loss = 0.\n",
    "        for x, y in dataloader:\n",
    "            loss_val = train(x, y, encoder, decoder, encoder_optim, decoder_optim, loss_fn)\n",
    "            run_loss += loss_val*x.size(0)\n",
    "        epoch_loss = run_loss/len(dataloader)\n",
    "        losses.append(epoch_loss)\n",
    "        print('[Epoch: {}]  Loss: {:.4f}'.format(epoch, epoch_loss))\n",
    "    \n",
    "    return losses"
   ]
  },
  {
   "cell_type": "code",
   "execution_count": 792,
   "id": "46c936c0",
   "metadata": {
    "ExecuteTime": {
     "end_time": "2021-08-07T18:28:38.407130Z",
     "start_time": "2021-08-07T18:28:38.393631Z"
    },
    "code_folding": [
     0,
     21
    ]
   },
   "outputs": [],
   "source": [
    "def evaluate(encoder, decoder, input_tensor):\n",
    "    with torch.no_grad():\n",
    "        input_length = lookback\n",
    "        output_length = lookahead\n",
    "        encoder_hidden = encoder.initHidden(batch_size)\n",
    "        encoder_outputs = torch.zeros(input_length, batch_size, encoder.hidden_size)\n",
    "        for ei in range(input_length):\n",
    "            encoder_output, encoder_hidden = encoder(input_tensor[:,ei:ei+1,:], encoder_hidden)\n",
    "            encoder_outputs[ei] = encoder_output[0,:]\n",
    "        \n",
    "        decoder_input = input_tensor[:,-1:,:]\n",
    "        decoder_hidden = encoder_hidden\n",
    "        \n",
    "        decoder_out = torch.zeros(output_length, batch_size,1)\n",
    "        for di in range(output_length):\n",
    "            decoder_output, decoder_hidden = decoder(decoder_input, decoder_hidden)\n",
    "            decoder_input = decoder_output.detach()\n",
    "            decoder_out[di] = decoder_output.detach()\n",
    "        \n",
    "        return decoder_out.squeeze(-1).permute(1,0)\n",
    "            \n",
    "def multipleEvaluation(encoder, decoder, date, testloader):\n",
    "    true, pred = [], []\n",
    "    #print(len(testloader[date]))\n",
    "    for x, y in testloader[date]:\n",
    "        prediction = evaluate(encoder, decoder, x)\n",
    "        pred.append(prediction.numpy())\n",
    "        true.append(y.numpy())\n",
    "    pred_array = np.asarray(pred)\n",
    "    true_array = np.asarray(true)\n",
    "    pred_shape = pred_array.shape\n",
    "    flattenTrue = true_array.reshape(pred_shape[0]*pred_shape[1], lookahead)[::lookahead].flatten()\n",
    "    flattenPred = pred_array.reshape(pred_shape[0]*pred_shape[1], lookahead)[::lookahead].flatten()\n",
    "    return flattenTrue, flattenPred"
   ]
  },
  {
   "cell_type": "code",
   "execution_count": 793,
   "id": "a8185fa2",
   "metadata": {
    "ExecuteTime": {
     "end_time": "2021-08-07T18:28:38.632664Z",
     "start_time": "2021-08-07T18:28:38.607799Z"
    },
    "code_folding": [
     0,
     66
    ]
   },
   "outputs": [],
   "source": [
    "def ModelTraining(model, optimizer, loss_fn ,dataloader,scheduler,forcing = True,epochs=100):\n",
    "    seed_everything()\n",
    "    best_model_wts = copy.deepcopy(model.state_dict())\n",
    "    best_loss = 1e3\n",
    "    losses, mape, mae, validlosses, validmae = [], [], [], [], []\n",
    "    for epoch in range(epochs):\n",
    "        #print('Epoch {}/{}'.format(epoch, epochs - 1))\n",
    "        #print('-' * 10)\n",
    "                \n",
    "        run_loss, run_mape, run_mae = 0., 0., 0.\n",
    "        for data, label in dataloader:\n",
    "            optimizer.zero_grad()\n",
    "            with torch.enable_grad():\n",
    "                if forcing :\n",
    "                    output = model(data, label)\n",
    "                else :\n",
    "                    output = model(data)\n",
    "                loss_val = loss_fn(output, label)\n",
    "                loss_val.backward()\n",
    "                optimizer.step()\n",
    "                    \n",
    "            run_loss += loss_val.item()*data.size(0)\n",
    "            run_mape += mean_absolute_percentage_error(label.detach().numpy(),output.detach().numpy())*data.size(0)\n",
    "            run_mae  += mean_absolute_error(label.detach().numpy(),output.detach().numpy())*data.size(0)\n",
    "            \n",
    "        epoch_loss = run_loss/len(dataloader)\n",
    "        epoch_mape = run_mape/len(dataloader)\n",
    "        epoch_mae = run_mae/len(dataloader)\n",
    "        \n",
    "        \n",
    "        losses.append(epoch_loss)\n",
    "        mape.append(epoch_mape)\n",
    "        mae.append(epoch_mae)\n",
    "        #print(\"Epoch: {} Loss: {} Best Loss: {} MAPE: {} MAE: {}\".format(epoch, epoch_loss, best_loss, epoch_mape, epoch_mae))\n",
    "                \n",
    "        #validlosses.append(epoch_loss)\n",
    "        #validmae.append(epoch_mae)\n",
    "        if epoch_loss < best_loss:\n",
    "            best_loss = epoch_loss\n",
    "            best_model_wts = copy.deepcopy(model.state_dict())\n",
    "                    \n",
    "        print('[Epoch: {}]  Loss: {:.4f} MAE: {:.4f} MAPE: {:.4f} Best : {:.4f}'.format(epoch, epoch_loss, epoch_mae, epoch_mape, best_loss))\n",
    "                \n",
    "        if scheduler is not None:\n",
    "            scheduler.step()\n",
    "        \n",
    "    model.load_state_dict(best_model_wts)\n",
    "    \n",
    "    return model, losses,mape, mae\n",
    "\n",
    "def ModelPrediction(model_to_test, date ,loader, lookahead):\n",
    "    prediction = []\n",
    "    true = []\n",
    "    for val, valpred in loader[date]:\n",
    "        model_to_test.eval()\n",
    "        pred = model_to_test(val)\n",
    "        #print(pred.shape)\n",
    "        prediction.append(pred.detach().numpy())\n",
    "        true.append(valpred.detach().numpy())\n",
    "    pred_array = np.asarray(prediction)\n",
    "    true_array = np.asarray(true)\n",
    "    pred_shape = pred_array.shape\n",
    "    flattenTrue = true_array.reshape(pred_shape[0]*pred_shape[1], lookahead)[::lookahead].flatten()\n",
    "    flattenPred = pred_array.reshape(pred_shape[0]*pred_shape[1], lookahead)[::lookahead].flatten()\n",
    "    return flattenTrue, flattenPred\n",
    "\n",
    "def PredictionMultipleDate(model, dates, date_begin, date_end, loader, lookahead, scalers, zone_name, ft_idx):\n",
    "    predictTrue = []\n",
    "    predictPred = []\n",
    "    valuePD = pd.DataFrame()\n",
    "    idx_begin = dates.index(date_begin)\n",
    "    idx_end = dates.index(date_end)\n",
    "    for date in dates[idx_begin:idx_end]:\n",
    "        true, pred = ModelPrediction(model, date, loader, lookahead)\n",
    "        maxi = scalers[zone_name].data_max_[ft_idx]\n",
    "        mini = scalers[zone_name].data_min_[ft_idx]\n",
    "        true = true.reshape(-1,1)*(maxi-mini) + mini\n",
    "        pred = pred.reshape(-1,1)*(maxi-mini) + mini\n",
    "        array = np.concatenate([true, pred],axis=1)\n",
    "        result = pd.DataFrame({\"Truth\": true.squeeze(),\n",
    "                              \"Prediction\" : pred.squeeze()})\n",
    "                              #\"Date\": pd.date_range(start=date,periods=true.shape[0], freq=\"5min\")})\n",
    "        valuePD = pd.concat((valuePD, result)).reset_index(drop=True)\n",
    "    return valuePD"
   ]
  },
  {
   "cell_type": "markdown",
   "id": "6aaa8041",
   "metadata": {},
   "source": [
    "# Parameters"
   ]
  },
  {
   "cell_type": "code",
   "execution_count": 794,
   "id": "ae5d0ca5",
   "metadata": {
    "ExecuteTime": {
     "end_time": "2021-08-07T18:28:39.336285Z",
     "start_time": "2021-08-07T18:28:39.333539Z"
    }
   },
   "outputs": [],
   "source": [
    "myfloor = \"Floor7Z1\"\n",
    "lookback = 13\n",
    "lookahead = 5\n",
    "batch_size = 16"
   ]
  },
  {
   "cell_type": "markdown",
   "id": "00b0a54e",
   "metadata": {},
   "source": [
    "# Temperature"
   ]
  },
  {
   "cell_type": "code",
   "execution_count": 795,
   "id": "5ae54909",
   "metadata": {
    "ExecuteTime": {
     "end_time": "2021-08-07T18:28:40.112676Z",
     "start_time": "2021-08-07T18:28:39.704812Z"
    }
   },
   "outputs": [],
   "source": [
    "featureX = \"temperature\"\n",
    "resampleX_method = \"max\"\n",
    "resampleX, scalersX, index_nan = createDTFeat(date1, date2, floor_dict, featureX,resample_method=resampleX_method)\n",
    "cleanedDataX, remain_date = cleanNan(resampleX, index_nan)"
   ]
  },
  {
   "cell_type": "code",
   "execution_count": 796,
   "id": "40f367e9",
   "metadata": {
    "ExecuteTime": {
     "end_time": "2021-08-07T18:28:40.348034Z",
     "start_time": "2021-08-07T18:28:40.113641Z"
    }
   },
   "outputs": [
    {
     "name": "stderr",
     "output_type": "stream",
     "text": [
      "/var/folders/wm/ymsmhgr90dd6gyprvtgvcr080000gn/T/ipykernel_4050/360392769.py:13: FutureWarning: Indexing a DataFrame with a datetimelike index using a single string to slice the rows, like `frame[string]`, is deprecated and will be removed in a future version. Use `frame.loc[string]` instead.\n",
      "  databyDate[date][floor] = np.asarray(datadict[floor][date][features])\n"
     ]
    }
   ],
   "source": [
    "cutting_date = \"2019-08-08\"\n",
    "train_date, test_date = splitDate(remain_date, cutting_date)\n",
    "databyDateX = createDataByDate(cleanedDataX, featureX, remain_date)"
   ]
  },
  {
   "cell_type": "code",
   "execution_count": 797,
   "id": "b9bf84c8",
   "metadata": {
    "ExecuteTime": {
     "end_time": "2021-08-07T18:28:41.892007Z",
     "start_time": "2021-08-07T18:28:41.789029Z"
    }
   },
   "outputs": [],
   "source": [
    "#loaderZtrain, loaderZval = LoaderXYtrain(databyDateX, databyDateY,myfloor,train_date, seq_len, batch_size, shuffle=False, val=False)\n",
    "loaderZtrain =LoaderByZoneNormal(databyDateX, myfloor, train_date, lookback, lookahead, batch_size, shuffle=False)\n",
    "loaderZtest = LoaderByZone(databyDateX, myfloor, test_date, lookback, lookahead, batch_size)"
   ]
  },
  {
   "cell_type": "code",
   "execution_count": 798,
   "id": "2eed6fac",
   "metadata": {
    "ExecuteTime": {
     "end_time": "2021-08-07T18:28:42.368136Z",
     "start_time": "2021-08-07T18:28:42.361902Z"
    }
   },
   "outputs": [],
   "source": [
    "loss_fn = nn.SmoothL1Loss()\n",
    "modelTemp = Seq2Seq(input_dim=1, hid_dim=10, output_dim=1, ts_out=lookahead)\n",
    "#modelTemp = LSTM(1, 10, lookback, lookahead)\n",
    "optimizerTemp = optim.Adam(modelTemp.parameters(), lr=0.01)\n",
    "scheduler = optim.lr_scheduler.StepLR(optimizerTemp,step_size=10,gamma=0.1)"
   ]
  },
  {
   "cell_type": "code",
   "execution_count": 799,
   "id": "77271d5f",
   "metadata": {
    "ExecuteTime": {
     "end_time": "2021-08-07T18:32:51.744217Z",
     "start_time": "2021-08-07T18:28:46.334131Z"
    },
    "scrolled": true
   },
   "outputs": [
    {
     "name": "stdout",
     "output_type": "stream",
     "text": [
      "[Epoch: 0]  Loss: 0.0311 MAE: 0.6235 MAPE: 1.9273 Best : 0.0311\n",
      "[Epoch: 1]  Loss: 0.0216 MAE: 0.5753 MAPE: 1.6071 Best : 0.0216\n",
      "[Epoch: 2]  Loss: 0.0172 MAE: 0.5245 MAPE: 1.4940 Best : 0.0172\n",
      "[Epoch: 3]  Loss: 0.0148 MAE: 0.4888 MAPE: 1.4250 Best : 0.0148\n",
      "[Epoch: 4]  Loss: 0.0134 MAE: 0.4705 MAPE: 1.3848 Best : 0.0134\n",
      "[Epoch: 5]  Loss: 0.0115 MAE: 0.4297 MAPE: 1.2607 Best : 0.0115\n",
      "[Epoch: 6]  Loss: 0.0088 MAE: 0.3692 MAPE: 1.1284 Best : 0.0088\n",
      "[Epoch: 7]  Loss: 0.0074 MAE: 0.3330 MAPE: 1.0738 Best : 0.0074\n",
      "[Epoch: 8]  Loss: 0.0064 MAE: 0.3102 MAPE: 0.9955 Best : 0.0064\n",
      "[Epoch: 9]  Loss: 0.0062 MAE: 0.3015 MAPE: 0.9818 Best : 0.0062\n",
      "[Epoch: 10]  Loss: 0.0037 MAE: 0.1958 MAPE: 0.7119 Best : 0.0037\n",
      "[Epoch: 11]  Loss: 0.0035 MAE: 0.1829 MAPE: 0.6753 Best : 0.0035\n",
      "[Epoch: 12]  Loss: 0.0034 MAE: 0.1828 MAPE: 0.6699 Best : 0.0034\n",
      "[Epoch: 13]  Loss: 0.0034 MAE: 0.1811 MAPE: 0.6636 Best : 0.0034\n",
      "[Epoch: 14]  Loss: 0.0033 MAE: 0.1797 MAPE: 0.6612 Best : 0.0033\n",
      "[Epoch: 15]  Loss: 0.0033 MAE: 0.1797 MAPE: 0.6651 Best : 0.0033\n",
      "[Epoch: 16]  Loss: 0.0033 MAE: 0.1795 MAPE: 0.6619 Best : 0.0033\n",
      "[Epoch: 17]  Loss: 0.0032 MAE: 0.1777 MAPE: 0.6547 Best : 0.0032\n",
      "[Epoch: 18]  Loss: 0.0033 MAE: 0.1794 MAPE: 0.6625 Best : 0.0032\n",
      "[Epoch: 19]  Loss: 0.0032 MAE: 0.1780 MAPE: 0.6513 Best : 0.0032\n",
      "[Epoch: 20]  Loss: 0.0032 MAE: 0.1674 MAPE: 0.6310 Best : 0.0032\n",
      "[Epoch: 21]  Loss: 0.0032 MAE: 0.1661 MAPE: 0.6260 Best : 0.0032\n",
      "[Epoch: 22]  Loss: 0.0032 MAE: 0.1662 MAPE: 0.6220 Best : 0.0032\n",
      "[Epoch: 23]  Loss: 0.0032 MAE: 0.1668 MAPE: 0.6277 Best : 0.0032\n",
      "[Epoch: 24]  Loss: 0.0031 MAE: 0.1655 MAPE: 0.6195 Best : 0.0031\n",
      "[Epoch: 25]  Loss: 0.0032 MAE: 0.1657 MAPE: 0.6233 Best : 0.0031\n",
      "[Epoch: 26]  Loss: 0.0032 MAE: 0.1664 MAPE: 0.6253 Best : 0.0031\n",
      "[Epoch: 27]  Loss: 0.0032 MAE: 0.1663 MAPE: 0.6227 Best : 0.0031\n",
      "[Epoch: 28]  Loss: 0.0032 MAE: 0.1655 MAPE: 0.6200 Best : 0.0031\n",
      "[Epoch: 29]  Loss: 0.0032 MAE: 0.1651 MAPE: 0.6181 Best : 0.0031\n",
      "[Epoch: 30]  Loss: 0.0032 MAE: 0.1637 MAPE: 0.6237 Best : 0.0031\n",
      "[Epoch: 31]  Loss: 0.0032 MAE: 0.1636 MAPE: 0.6217 Best : 0.0031\n",
      "[Epoch: 32]  Loss: 0.0032 MAE: 0.1635 MAPE: 0.6211 Best : 0.0031\n",
      "[Epoch: 33]  Loss: 0.0031 MAE: 0.1629 MAPE: 0.6177 Best : 0.0031\n",
      "[Epoch: 34]  Loss: 0.0031 MAE: 0.1627 MAPE: 0.6178 Best : 0.0031\n",
      "[Epoch: 35]  Loss: 0.0031 MAE: 0.1630 MAPE: 0.6174 Best : 0.0031\n",
      "[Epoch: 36]  Loss: 0.0032 MAE: 0.1630 MAPE: 0.6147 Best : 0.0031\n",
      "[Epoch: 37]  Loss: 0.0032 MAE: 0.1637 MAPE: 0.6225 Best : 0.0031\n",
      "[Epoch: 38]  Loss: 0.0031 MAE: 0.1626 MAPE: 0.6163 Best : 0.0031\n",
      "[Epoch: 39]  Loss: 0.0031 MAE: 0.1631 MAPE: 0.6201 Best : 0.0031\n",
      "[Epoch: 40]  Loss: 0.0032 MAE: 0.1632 MAPE: 0.6162 Best : 0.0031\n",
      "[Epoch: 41]  Loss: 0.0031 MAE: 0.1629 MAPE: 0.6166 Best : 0.0031\n",
      "[Epoch: 42]  Loss: 0.0032 MAE: 0.1630 MAPE: 0.6169 Best : 0.0031\n",
      "[Epoch: 43]  Loss: 0.0031 MAE: 0.1626 MAPE: 0.6148 Best : 0.0031\n",
      "[Epoch: 44]  Loss: 0.0032 MAE: 0.1632 MAPE: 0.6177 Best : 0.0031\n",
      "[Epoch: 45]  Loss: 0.0031 MAE: 0.1624 MAPE: 0.6152 Best : 0.0031\n",
      "[Epoch: 46]  Loss: 0.0032 MAE: 0.1631 MAPE: 0.6192 Best : 0.0031\n",
      "[Epoch: 47]  Loss: 0.0031 MAE: 0.1624 MAPE: 0.6133 Best : 0.0031\n",
      "[Epoch: 48]  Loss: 0.0032 MAE: 0.1638 MAPE: 0.6213 Best : 0.0031\n",
      "[Epoch: 49]  Loss: 0.0031 MAE: 0.1629 MAPE: 0.6148 Best : 0.0031\n"
     ]
    }
   ],
   "source": [
    "trainedTemp, losses,mape,mae = ModelTraining(modelTemp, optimizerTemp, loss_fn, loaderZtrain, scheduler,epochs=50)"
   ]
  },
  {
   "cell_type": "code",
   "execution_count": 800,
   "id": "aea768a8",
   "metadata": {
    "ExecuteTime": {
     "end_time": "2021-08-07T18:52:13.498960Z",
     "start_time": "2021-08-07T18:52:13.418083Z"
    }
   },
   "outputs": [
    {
     "data": {
      "text/plain": [
       "[<matplotlib.lines.Line2D at 0x280434610>]"
      ]
     },
     "execution_count": 800,
     "metadata": {},
     "output_type": "execute_result"
    },
    {
     "data": {
      "image/png": "[encoded data removed]",
      "text/plain": [
       "<Figure size 432x288 with 1 Axes>"
      ]
     },
     "metadata": {},
     "output_type": "display_data"
    }
   ],
   "source": [
    "plt.plot(losses)"
   ]
  },
  {
   "cell_type": "code",
   "execution_count": 801,
   "id": "3c5f49cb",
   "metadata": {
    "ExecuteTime": {
     "end_time": "2021-08-07T18:52:14.778993Z",
     "start_time": "2021-08-07T18:52:14.774466Z"
    }
   },
   "outputs": [
    {
     "data": {
      "text/plain": [
       "Index(['ACPower', 'lightPower', 'appPower', 'temperature', 'humidity', 'lux'], dtype='object')"
      ]
     },
     "execution_count": 801,
     "metadata": {},
     "output_type": "execute_result"
    }
   ],
   "source": [
    "floor_dict[\"Floor7Z1\"].columns"
   ]
  },
  {
   "cell_type": "code",
   "execution_count": 810,
   "id": "9a5aac5d",
   "metadata": {
    "ExecuteTime": {
     "end_time": "2021-08-07T19:26:34.487376Z",
     "start_time": "2021-08-07T19:26:34.383890Z"
    }
   },
   "outputs": [],
   "source": [
    "ft_idx = 3\n",
    "may = [date for date in test_date if '2019-08' in date]\n",
    "resultpd = PredictionMultipleDate(trainedTemp,test_date,may[5], may[10],loaderZtest,lookahead, scalersX, myfloor, ft_idx)"
   ]
  },
  {
   "cell_type": "code",
   "execution_count": 811,
   "id": "ab8ae62b",
   "metadata": {
    "ExecuteTime": {
     "end_time": "2021-08-07T19:26:34.928447Z",
     "start_time": "2021-08-07T19:26:34.821277Z"
    }
   },
   "outputs": [
    {
     "data": {
      "text/plain": [
       "<AxesSubplot:>"
      ]
     },
     "execution_count": 811,
     "metadata": {},
     "output_type": "execute_result"
    },
    {
     "data": {
      "image/png": "[encoded data removed]",
      "text/plain": [
       "<Figure size 1296x360 with 1 Axes>"
      ]
     },
     "metadata": {},
     "output_type": "display_data"
    }
   ],
   "source": [
    "resultpd[[\"Truth\",\"Prediction\"]].plot(figsize=(18,5))#,title=\"Model_\"+str(indexroom))"
   ]
  },
  {
   "cell_type": "code",
   "execution_count": 812,
   "id": "d76675b8",
   "metadata": {
    "ExecuteTime": {
     "end_time": "2021-08-07T19:26:36.786124Z",
     "start_time": "2021-08-07T19:26:36.781980Z"
    }
   },
   "outputs": [],
   "source": [
    "oldx, oldy = loaderZtrain.dataset[-16:]"
   ]
  },
  {
   "cell_type": "code",
   "execution_count": 813,
   "id": "57245a9d",
   "metadata": {
    "ExecuteTime": {
     "end_time": "2021-08-07T19:26:36.978205Z",
     "start_time": "2021-08-07T19:26:36.969498Z"
    }
   },
   "outputs": [],
   "source": [
    "init_hidden = trainedTemp.encoder.init_hidden(16)\n",
    "pred, hidden = seq2seqstateful(oldx, init_hidden)"
   ]
  },
  {
   "cell_type": "code",
   "execution_count": 814,
   "id": "cd082a60",
   "metadata": {
    "ExecuteTime": {
     "end_time": "2021-08-07T19:26:37.158610Z",
     "start_time": "2021-08-07T19:26:37.151223Z"
    }
   },
   "outputs": [],
   "source": [
    "def Prediction(model, sample):\n",
    "    model.eval()\n",
    "    with torch.no_grad():\n",
    "        pred = model(sample)\n",
    "    return pred\n",
    "\n",
    "def PredictToPredict(model, sample, nb_pred):\n",
    "    init=sample\n",
    "    for t in range(1,nb_pred+1):\n",
    "        series= Prediction(model, sample)\n",
    "        init = torch.cat((init, series.unsqueeze(-1)), dim=1)\n",
    "        sample = init[:,-lookback:,:]\n",
    "        #print(sample.shape)\n",
    "    return init"
   ]
  },
  {
   "cell_type": "code",
   "execution_count": 815,
   "id": "56f75898",
   "metadata": {
    "ExecuteTime": {
     "end_time": "2021-08-07T19:26:37.341244Z",
     "start_time": "2021-08-07T19:26:37.337047Z"
    }
   },
   "outputs": [],
   "source": [
    "it = iter(loaderZtest[test_date[0]])\n",
    "x,y = next(it)"
   ]
  },
  {
   "cell_type": "code",
   "execution_count": 816,
   "id": "5b756935",
   "metadata": {
    "ExecuteTime": {
     "end_time": "2021-08-07T19:26:37.991373Z",
     "start_time": "2021-08-07T19:26:37.886916Z"
    }
   },
   "outputs": [],
   "source": [
    "test = PredictToPredict(trainedTemp,x , 150)"
   ]
  },
  {
   "cell_type": "code",
   "execution_count": 817,
   "id": "e1fb5b9b",
   "metadata": {
    "ExecuteTime": {
     "end_time": "2021-08-07T19:26:38.423898Z",
     "start_time": "2021-08-07T19:26:38.334306Z"
    }
   },
   "outputs": [
    {
     "data": {
      "text/plain": [
       "[<matplotlib.lines.Line2D at 0x2980e23d0>]"
      ]
     },
     "execution_count": 817,
     "metadata": {},
     "output_type": "execute_result"
    },
    {
     "data": {
      "image/png": "[encoded data removed]",
      "text/plain": [
       "<Figure size 432x288 with 1 Axes>"
      ]
     },
     "metadata": {},
     "output_type": "display_data"
    }
   ],
   "source": [
    "plt.plot(test[0,13:,:].detach().numpy().squeeze())"
   ]
  },
  {
   "cell_type": "code",
   "execution_count": 700,
   "id": "a7cb398f",
   "metadata": {
    "ExecuteTime": {
     "end_time": "2021-08-07T16:39:51.723061Z",
     "start_time": "2021-08-07T16:39:51.685218Z"
    }
   },
   "outputs": [],
   "source": [
    "true, pred = ModelPrediction(trainedTemp,test_date[0], loaderZtest, lookahead)"
   ]
  },
  {
   "cell_type": "code",
   "execution_count": 701,
   "id": "c1d118bb",
   "metadata": {
    "ExecuteTime": {
     "end_time": "2021-08-07T16:39:52.192917Z",
     "start_time": "2021-08-07T16:39:52.110753Z"
    },
    "scrolled": true
   },
   "outputs": [
    {
     "data": {
      "text/plain": [
       "[<matplotlib.lines.Line2D at 0x28b20c970>]"
      ]
     },
     "execution_count": 701,
     "metadata": {},
     "output_type": "execute_result"
    },
    {
     "data": {
      "image/png": "[encoded data removed]",
      "text/plain": [
       "<Figure size 432x288 with 1 Axes>"
      ]
     },
     "metadata": {},
     "output_type": "display_data"
    }
   ],
   "source": [
    "plt.plot(true)\n",
    "plt.plot(pred)"
   ]
  },
  {
   "cell_type": "code",
   "execution_count": 811,
   "id": "dd08d36f",
   "metadata": {
    "ExecuteTime": {
     "end_time": "2021-08-06T22:17:57.601880Z",
     "start_time": "2021-08-06T22:17:57.595312Z"
    }
   },
   "outputs": [
    {
     "data": {
      "text/plain": [
       "torch.Size([16, 5])"
      ]
     },
     "execution_count": 811,
     "metadata": {},
     "output_type": "execute_result"
    }
   ],
   "source": [
    "trainedTemp(x).shape"
   ]
  },
  {
   "cell_type": "code",
   "execution_count": 471,
   "id": "172c950d",
   "metadata": {
    "ExecuteTime": {
     "end_time": "2021-08-06T17:17:39.202552Z",
     "start_time": "2021-08-06T17:17:39.197341Z"
    }
   },
   "outputs": [
    {
     "data": {
      "text/plain": [
       "{'Floor7Z1': MinMaxScaler(),\n",
       " 'Floor7Z2': MinMaxScaler(),\n",
       " 'Floor7Z4': MinMaxScaler(),\n",
       " 'Floor7Z5': MinMaxScaler()}"
      ]
     },
     "execution_count": 471,
     "metadata": {},
     "output_type": "execute_result"
    }
   ],
   "source": [
    "scalersX"
   ]
  },
  {
   "cell_type": "code",
   "execution_count": 549,
   "id": "c0515dbc",
   "metadata": {
    "ExecuteTime": {
     "end_time": "2021-08-06T20:32:04.848027Z",
     "start_time": "2021-08-06T20:32:04.837890Z"
    }
   },
   "outputs": [],
   "source": [
    "def RollingPrediction(model, samplex, trueloader ,nb_pred, window=1):\n",
    "    pred = PredictToPredict(model, samplex,1)\n",
    "    datapred = pd.DataFrame({\"Prediction\":pred.detach().numpy().squeeze()})\n",
    "    lookback = samplex.size(1)\n",
    "    for i in range(nb_pred):\n",
    "        rolling = datapred.rolling(window=window)\n",
    "        rolling_mean = rolling.mean()\n",
    "        x = torch.tensor(rolling_mean[-lookback:].values, dtype=torch.float).reshape(1,-1,1)\n",
    "        nextpred = pd.DataFrame({\"Prediction\":model(x).squeeze().detach().numpy()})\n",
    "        datapred = pd.concat([datapred, nextpred],axis=0).reset_index(drop=True)\n",
    "    maxi = scalersX[myfloor].data_max_[ft_idx]\n",
    "    mini = scalersX[myfloor].data_min_[ft_idx]\n",
    "    datapred[\"Prediction\"] = datapred[\"Prediction\"]*(maxi-mini) + mini\n",
    "    return datapred"
   ]
  },
  {
   "cell_type": "code",
   "execution_count": 550,
   "id": "87529a19",
   "metadata": {
    "ExecuteTime": {
     "end_time": "2021-08-06T20:32:05.346405Z",
     "start_time": "2021-08-06T20:32:05.321776Z"
    }
   },
   "outputs": [
    {
     "ename": "UnboundLocalError",
     "evalue": "local variable 'hidden' referenced before assignment",
     "output_type": "error",
     "traceback": [
      "\u001b[0;31m---------------------------------------------------------------------------\u001b[0m",
      "\u001b[0;31mUnboundLocalError\u001b[0m                         Traceback (most recent call last)",
      "\u001b[0;32m/var/folders/wm/ymsmhgr90dd6gyprvtgvcr080000gn/T/ipykernel_1214/1512225938.py\u001b[0m in \u001b[0;36m<module>\u001b[0;34m\u001b[0m\n\u001b[0;32m----> 1\u001b[0;31m \u001b[0mdatapred\u001b[0m \u001b[0;34m=\u001b[0m \u001b[0mRollingPrediction\u001b[0m\u001b[0;34m(\u001b[0m\u001b[0mtrainedTemp\u001b[0m\u001b[0;34m,\u001b[0m \u001b[0mfirst_seed\u001b[0m\u001b[0;34m,\u001b[0m \u001b[0my\u001b[0m\u001b[0;34m[\u001b[0m\u001b[0;36m0\u001b[0m\u001b[0;34m]\u001b[0m\u001b[0;34m,\u001b[0m \u001b[0;36m30\u001b[0m\u001b[0;34m,\u001b[0m \u001b[0;36m5\u001b[0m\u001b[0;34m)\u001b[0m\u001b[0;34m\u001b[0m\u001b[0;34m\u001b[0m\u001b[0m\n\u001b[0m",
      "\u001b[0;32m/var/folders/wm/ymsmhgr90dd6gyprvtgvcr080000gn/T/ipykernel_1214/2953861319.py\u001b[0m in \u001b[0;36mRollingPrediction\u001b[0;34m(model, samplex, trueloader, nb_pred, window)\u001b[0m\n\u001b[1;32m      1\u001b[0m \u001b[0;32mdef\u001b[0m \u001b[0mRollingPrediction\u001b[0m\u001b[0;34m(\u001b[0m\u001b[0mmodel\u001b[0m\u001b[0;34m,\u001b[0m \u001b[0msamplex\u001b[0m\u001b[0;34m,\u001b[0m \u001b[0mtrueloader\u001b[0m \u001b[0;34m,\u001b[0m\u001b[0mnb_pred\u001b[0m\u001b[0;34m,\u001b[0m \u001b[0mwindow\u001b[0m\u001b[0;34m=\u001b[0m\u001b[0;36m1\u001b[0m\u001b[0;34m)\u001b[0m\u001b[0;34m:\u001b[0m\u001b[0;34m\u001b[0m\u001b[0;34m\u001b[0m\u001b[0m\n\u001b[0;32m----> 2\u001b[0;31m     \u001b[0mpred\u001b[0m \u001b[0;34m=\u001b[0m \u001b[0mPredictToPredict\u001b[0m\u001b[0;34m(\u001b[0m\u001b[0mmodel\u001b[0m\u001b[0;34m,\u001b[0m \u001b[0msamplex\u001b[0m\u001b[0;34m,\u001b[0m\u001b[0;36m1\u001b[0m\u001b[0;34m)\u001b[0m\u001b[0;34m\u001b[0m\u001b[0;34m\u001b[0m\u001b[0m\n\u001b[0m\u001b[1;32m      3\u001b[0m     \u001b[0mdatapred\u001b[0m \u001b[0;34m=\u001b[0m \u001b[0mpd\u001b[0m\u001b[0;34m.\u001b[0m\u001b[0mDataFrame\u001b[0m\u001b[0;34m(\u001b[0m\u001b[0;34m{\u001b[0m\u001b[0;34m\"Prediction\"\u001b[0m\u001b[0;34m:\u001b[0m\u001b[0mpred\u001b[0m\u001b[0;34m.\u001b[0m\u001b[0mdetach\u001b[0m\u001b[0;34m(\u001b[0m\u001b[0;34m)\u001b[0m\u001b[0;34m.\u001b[0m\u001b[0mnumpy\u001b[0m\u001b[0;34m(\u001b[0m\u001b[0;34m)\u001b[0m\u001b[0;34m.\u001b[0m\u001b[0msqueeze\u001b[0m\u001b[0;34m(\u001b[0m\u001b[0;34m)\u001b[0m\u001b[0;34m}\u001b[0m\u001b[0;34m)\u001b[0m\u001b[0;34m\u001b[0m\u001b[0;34m\u001b[0m\u001b[0m\n\u001b[1;32m      4\u001b[0m     \u001b[0mlookback\u001b[0m \u001b[0;34m=\u001b[0m \u001b[0msamplex\u001b[0m\u001b[0;34m.\u001b[0m\u001b[0msize\u001b[0m\u001b[0;34m(\u001b[0m\u001b[0;36m1\u001b[0m\u001b[0;34m)\u001b[0m\u001b[0;34m\u001b[0m\u001b[0;34m\u001b[0m\u001b[0m\n\u001b[1;32m      5\u001b[0m     \u001b[0;32mfor\u001b[0m \u001b[0mi\u001b[0m \u001b[0;32min\u001b[0m \u001b[0mrange\u001b[0m\u001b[0;34m(\u001b[0m\u001b[0mnb_pred\u001b[0m\u001b[0;34m)\u001b[0m\u001b[0;34m:\u001b[0m\u001b[0;34m\u001b[0m\u001b[0;34m\u001b[0m\u001b[0m\n",
      "\u001b[0;32m/var/folders/wm/ymsmhgr90dd6gyprvtgvcr080000gn/T/ipykernel_1214/949300651.py\u001b[0m in \u001b[0;36mPredictToPredict\u001b[0;34m(model, sample, nb_pred)\u001b[0m\n\u001b[1;32m      8\u001b[0m     \u001b[0minit\u001b[0m \u001b[0;34m=\u001b[0m \u001b[0msample\u001b[0m\u001b[0;34m\u001b[0m\u001b[0;34m\u001b[0m\u001b[0m\n\u001b[1;32m      9\u001b[0m     \u001b[0;32mfor\u001b[0m \u001b[0mt\u001b[0m \u001b[0;32min\u001b[0m \u001b[0mrange\u001b[0m\u001b[0;34m(\u001b[0m\u001b[0mnb_pred\u001b[0m\u001b[0;34m)\u001b[0m\u001b[0;34m:\u001b[0m\u001b[0;34m\u001b[0m\u001b[0;34m\u001b[0m\u001b[0m\n\u001b[0;32m---> 10\u001b[0;31m         \u001b[0mseries\u001b[0m\u001b[0;34m,\u001b[0m \u001b[0mhidden\u001b[0m \u001b[0;34m=\u001b[0m \u001b[0mPrediction\u001b[0m\u001b[0;34m(\u001b[0m\u001b[0mmodel\u001b[0m\u001b[0;34m,\u001b[0m \u001b[0msample\u001b[0m\u001b[0;34m,\u001b[0m \u001b[0mhidden\u001b[0m\u001b[0;34m)\u001b[0m\u001b[0;34m\u001b[0m\u001b[0;34m\u001b[0m\u001b[0m\n\u001b[0m\u001b[1;32m     11\u001b[0m         \u001b[0minit\u001b[0m \u001b[0;34m=\u001b[0m \u001b[0mtorch\u001b[0m\u001b[0;34m.\u001b[0m\u001b[0mcat\u001b[0m\u001b[0;34m(\u001b[0m\u001b[0;34m(\u001b[0m\u001b[0minit\u001b[0m\u001b[0;34m,\u001b[0m \u001b[0mseries\u001b[0m\u001b[0;34m.\u001b[0m\u001b[0munsqueeze\u001b[0m\u001b[0;34m(\u001b[0m\u001b[0;34m-\u001b[0m\u001b[0;36m1\u001b[0m\u001b[0;34m)\u001b[0m\u001b[0;34m)\u001b[0m\u001b[0;34m,\u001b[0m \u001b[0mdim\u001b[0m\u001b[0;34m=\u001b[0m\u001b[0;36m1\u001b[0m\u001b[0;34m)\u001b[0m\u001b[0;34m\u001b[0m\u001b[0;34m\u001b[0m\u001b[0m\n\u001b[1;32m     12\u001b[0m         \u001b[0msample\u001b[0m \u001b[0;34m=\u001b[0m \u001b[0minit\u001b[0m\u001b[0;34m[\u001b[0m\u001b[0;34m:\u001b[0m\u001b[0;34m,\u001b[0m\u001b[0;34m-\u001b[0m\u001b[0mlookback\u001b[0m\u001b[0;34m:\u001b[0m\u001b[0;34m,\u001b[0m\u001b[0;34m:\u001b[0m\u001b[0;34m]\u001b[0m\u001b[0;34m\u001b[0m\u001b[0;34m\u001b[0m\u001b[0m\n",
      "\u001b[0;31mUnboundLocalError\u001b[0m: local variable 'hidden' referenced before assignment"
     ]
    }
   ],
   "source": [
    "datapred = RollingPrediction(trainedTemp, first_seed, y[0], 30, 5)"
   ]
  },
  {
   "cell_type": "code",
   "execution_count": 474,
   "id": "106b8e97",
   "metadata": {
    "ExecuteTime": {
     "end_time": "2021-08-06T17:17:41.479961Z",
     "start_time": "2021-08-06T17:17:41.397880Z"
    }
   },
   "outputs": [
    {
     "data": {
      "text/plain": [
       "<AxesSubplot:>"
      ]
     },
     "execution_count": 474,
     "metadata": {},
     "output_type": "execute_result"
    },
    {
     "data": {
      "image/png": "[encoded data removed]",
      "text/plain": [
       "<Figure size 432x288 with 1 Axes>"
      ]
     },
     "metadata": {},
     "output_type": "display_data"
    }
   ],
   "source": [
    "datapred.plot()"
   ]
  },
  {
   "cell_type": "code",
   "execution_count": 475,
   "id": "93ba56bd",
   "metadata": {
    "ExecuteTime": {
     "end_time": "2021-08-06T17:17:44.270633Z",
     "start_time": "2021-08-06T17:17:44.262172Z"
    }
   },
   "outputs": [
    {
     "data": {
      "text/plain": [
       "tensor([[0.5015, 0.5021, 0.5024, 0.5014, 0.5009],\n",
       "        [0.5013, 0.5020, 0.5022, 0.5012, 0.5006],\n",
       "        [0.5022, 0.5027, 0.5030, 0.5021, 0.5017],\n",
       "        [0.5026, 0.5033, 0.5035, 0.5025, 0.5020],\n",
       "        [0.5020, 0.5029, 0.5033, 0.5024, 0.5020],\n",
       "        [0.5013, 0.5025, 0.5029, 0.5022, 0.5019],\n",
       "        [0.5020, 0.5033, 0.5036, 0.5027, 0.5023],\n",
       "        [0.5025, 0.5037, 0.5040, 0.5031, 0.5026],\n",
       "        [0.5034, 0.5045, 0.5050, 0.5043, 0.5040],\n",
       "        [0.5035, 0.5039, 0.5041, 0.5029, 0.5023],\n",
       "        [0.5034, 0.5040, 0.5042, 0.5031, 0.5026],\n",
       "        [0.5042, 0.5043, 0.5046, 0.5035, 0.5029],\n",
       "        [0.5036, 0.5044, 0.5045, 0.5035, 0.5030],\n",
       "        [0.5035, 0.5043, 0.5043, 0.5032, 0.5026],\n",
       "        [0.5030, 0.5038, 0.5038, 0.5027, 0.5020],\n",
       "        [0.5031, 0.5039, 0.5041, 0.5031, 0.5027]], grad_fn=<PermuteBackward>)"
      ]
     },
     "execution_count": 475,
     "metadata": {},
     "output_type": "execute_result"
    }
   ],
   "source": [
    "trainedTemp(x)"
   ]
  },
  {
   "cell_type": "code",
   "execution_count": 476,
   "id": "999c1944",
   "metadata": {
    "ExecuteTime": {
     "end_time": "2021-08-06T17:17:44.672230Z",
     "start_time": "2021-08-06T17:17:44.667125Z"
    }
   },
   "outputs": [],
   "source": [
    "haha = trainedTemp(x).unsqueeze(-1)"
   ]
  },
  {
   "cell_type": "code",
   "execution_count": 187,
   "id": "9ff3c96d",
   "metadata": {
    "ExecuteTime": {
     "end_time": "2021-08-06T15:28:35.865340Z",
     "start_time": "2021-08-06T15:28:35.861239Z"
    }
   },
   "outputs": [
    {
     "data": {
      "text/plain": [
       "torch.Size([16, 5, 1])"
      ]
     },
     "execution_count": 187,
     "metadata": {},
     "output_type": "execute_result"
    }
   ],
   "source": [
    "haha.shape"
   ]
  },
  {
   "cell_type": "code",
   "execution_count": 188,
   "id": "955cddca",
   "metadata": {
    "ExecuteTime": {
     "end_time": "2021-08-06T15:28:44.153775Z",
     "start_time": "2021-08-06T15:28:44.150004Z"
    }
   },
   "outputs": [],
   "source": [
    "hehe = x"
   ]
  },
  {
   "cell_type": "code",
   "execution_count": 211,
   "id": "9a742b8e",
   "metadata": {
    "ExecuteTime": {
     "end_time": "2021-08-06T15:36:00.149431Z",
     "start_time": "2021-08-06T15:36:00.146595Z"
    }
   },
   "outputs": [],
   "source": [
    "true1 = torch.cat([hehe,y.unsqueeze(-1)], dim=1)"
   ]
  },
  {
   "cell_type": "code",
   "execution_count": 191,
   "id": "4dccfd67",
   "metadata": {
    "ExecuteTime": {
     "end_time": "2021-08-06T15:30:29.629750Z",
     "start_time": "2021-08-06T15:30:29.626988Z"
    }
   },
   "outputs": [],
   "source": [
    "pred1 = torch.cat([hehe,haha],dim=1)"
   ]
  },
  {
   "cell_type": "code",
   "execution_count": 214,
   "id": "06f85f61",
   "metadata": {
    "ExecuteTime": {
     "end_time": "2021-08-06T15:36:10.033978Z",
     "start_time": "2021-08-06T15:36:10.029380Z"
    }
   },
   "outputs": [
    {
     "data": {
      "text/plain": [
       "(torch.Size([16, 18, 1]), torch.Size([16, 13, 1]))"
      ]
     },
     "execution_count": 214,
     "metadata": {},
     "output_type": "execute_result"
    }
   ],
   "source": [
    "true1.shape, x.shape"
   ]
  },
  {
   "cell_type": "code",
   "execution_count": 382,
   "id": "08f72102",
   "metadata": {
    "ExecuteTime": {
     "end_time": "2021-08-06T15:50:15.928069Z",
     "start_time": "2021-08-06T15:50:15.922295Z"
    }
   },
   "outputs": [],
   "source": [
    "true1 = torch.cat([true1,modelTemp(true1[:,-13:,:]).unsqueeze(-1)], dim=1)"
   ]
  },
  {
   "cell_type": "code",
   "execution_count": 383,
   "id": "d944c9a2",
   "metadata": {
    "ExecuteTime": {
     "end_time": "2021-08-06T15:50:16.165158Z",
     "start_time": "2021-08-06T15:50:16.158264Z"
    }
   },
   "outputs": [],
   "source": [
    "pred1 = torch.cat([pred1, modelTemp(pred1[:,-13:,:]).unsqueeze(-1)], dim=1)"
   ]
  },
  {
   "cell_type": "code",
   "execution_count": 384,
   "id": "45f32ba4",
   "metadata": {
    "ExecuteTime": {
     "end_time": "2021-08-06T15:50:16.361002Z",
     "start_time": "2021-08-06T15:50:16.356406Z"
    }
   },
   "outputs": [
    {
     "data": {
      "text/plain": [
       "torch.Size([16, 203, 1])"
      ]
     },
     "execution_count": 384,
     "metadata": {},
     "output_type": "execute_result"
    }
   ],
   "source": [
    "true1.shape"
   ]
  },
  {
   "cell_type": "code",
   "execution_count": 385,
   "id": "635ec935",
   "metadata": {
    "ExecuteTime": {
     "end_time": "2021-08-06T15:50:16.810638Z",
     "start_time": "2021-08-06T15:50:16.718211Z"
    }
   },
   "outputs": [
    {
     "data": {
      "text/plain": [
       "[<matplotlib.lines.Line2D at 0x28f3f3c40>]"
      ]
     },
     "execution_count": 385,
     "metadata": {},
     "output_type": "execute_result"
    },
    {
     "data": {
      "image/png": "[encoded data removed]",
      "text/plain": [
       "<Figure size 432x288 with 1 Axes>"
      ]
     },
     "metadata": {},
     "output_type": "display_data"
    }
   ],
   "source": [
    "plt.plot(true1[0].squeeze(-1).detach().numpy())\n",
    "plt.plot(pred1[0].squeeze(-1).detach().numpy())"
   ]
  },
  {
   "cell_type": "code",
   "execution_count": 200,
   "id": "c2a19f99",
   "metadata": {
    "ExecuteTime": {
     "end_time": "2021-08-06T15:31:44.561417Z",
     "start_time": "2021-08-06T15:31:44.485899Z"
    }
   },
   "outputs": [
    {
     "data": {
      "text/plain": [
       "[<matplotlib.lines.Line2D at 0x28fe90370>]"
      ]
     },
     "execution_count": 200,
     "metadata": {},
     "output_type": "execute_result"
    },
    {
     "data": {
      "image/png": "[encoded data removed]",
      "text/plain": [
       "<Figure size 432x288 with 1 Axes>"
      ]
     },
     "metadata": {},
     "output_type": "display_data"
    }
   ],
   "source": [
    "plt.plot(true1[1].squeeze(-1).detach().numpy())"
   ]
  },
  {
   "cell_type": "code",
   "execution_count": null,
   "id": "d854e929",
   "metadata": {},
   "outputs": [],
   "source": []
  }
 ],
 "metadata": {
  "kernelspec": {
   "display_name": "Python 3 (ipykernel)",
   "language": "python",
   "name": "python3"
  },
  "language_info": {
   "codemirror_mode": {
    "name": "ipython",
    "version": 3
   },
   "file_extension": ".py",
   "mimetype": "text/x-python",
   "name": "python",
   "nbconvert_exporter": "python",
   "pygments_lexer": "ipython3",
   "version": "3.8.10"
  },
  "toc": {
   "base_numbering": 1,
   "nav_menu": {},
   "number_sections": true,
   "sideBar": true,
   "skip_h1_title": false,
   "title_cell": "Table of Contents",
   "title_sidebar": "Contents",
   "toc_cell": false,
   "toc_position": {},
   "toc_section_display": true,
   "toc_window_display": false
  }
 },
 "nbformat": 4,
 "nbformat_minor": 5
}
